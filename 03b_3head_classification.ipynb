{
 "cells": [
  {
   "cell_type": "code",
   "execution_count": 1,
   "metadata": {},
   "outputs": [],
   "source": [
    "from audio_dataset import MelSpectrogram_Classification_Dataset,denormalize\n",
    "\n",
    "from pathlib import Path\n",
    "\n",
    "import os\n",
    "\n",
    "import numpy as np\n",
    "import pandas as pd\n",
    "\n",
    "import librosa\n",
    "import librosa.display\n",
    "\n",
    "import matplotlib.pyplot as plt\n",
    "\n",
    "import torch\n",
    "import torch.nn.functional as F\n",
    "import torchvision.models as torch_models\n",
    "from torch import nn\n",
    "from torch.utils.data import DataLoader\n",
    "from torch.utils.data.sampler import SequentialSampler, RandomSampler,WeightedRandomSampler\n",
    "\n",
    "import albumentations as A\n",
    "from albumentations.pytorch.transforms import ToTensorV2\n",
    "\n",
    "from fastai.vision.all import *"
   ]
  },
  {
   "cell_type": "code",
   "execution_count": 2,
   "metadata": {},
   "outputs": [],
   "source": [
    "root = '/home/heye0507/sz_audio'\n",
    "audio_data = root + '/audio_data'\n",
    "data = root + '/data'"
   ]
  },
  {
   "cell_type": "code",
   "execution_count": 3,
   "metadata": {},
   "outputs": [],
   "source": [
    "df_train = pd.read_csv(data+'/train_valid_mix.csv')\n",
    "df_valid = pd.read_csv(data+'/new_test.csv')"
   ]
  },
  {
   "cell_type": "code",
   "execution_count": 4,
   "metadata": {},
   "outputs": [
    {
     "data": {
      "text/html": [
       "<div>\n",
       "<style scoped>\n",
       "    .dataframe tbody tr th:only-of-type {\n",
       "        vertical-align: middle;\n",
       "    }\n",
       "\n",
       "    .dataframe tbody tr th {\n",
       "        vertical-align: top;\n",
       "    }\n",
       "\n",
       "    .dataframe thead th {\n",
       "        text-align: right;\n",
       "    }\n",
       "</style>\n",
       "<table border=\"1\" class=\"dataframe\">\n",
       "  <thead>\n",
       "    <tr style=\"text-align: right;\">\n",
       "      <th></th>\n",
       "      <th>filename</th>\n",
       "      <th>orig_filename</th>\n",
       "      <th>id</th>\n",
       "      <th>name</th>\n",
       "      <th>eng_name</th>\n",
       "      <th>gender</th>\n",
       "      <th>cul</th>\n",
       "      <th>hometown</th>\n",
       "      <th>age</th>\n",
       "      <th>height</th>\n",
       "      <th>weight</th>\n",
       "      <th>temp</th>\n",
       "      <th>bpm</th>\n",
       "      <th>tsh</th>\n",
       "      <th>t4</th>\n",
       "      <th>t3</th>\n",
       "      <th>tsh_label</th>\n",
       "      <th>t3_label</th>\n",
       "      <th>t4_label</th>\n",
       "      <th>valid</th>\n",
       "    </tr>\n",
       "  </thead>\n",
       "  <tbody>\n",
       "    <tr>\n",
       "      <th>0</th>\n",
       "      <td>train_0043.wav</td>\n",
       "      <td>524215/Ausculation_Report_Eko_Recording_140111.wav</td>\n",
       "      <td>524215</td>\n",
       "      <td>叶思思</td>\n",
       "      <td>Ye, Sisi</td>\n",
       "      <td>1=男</td>\n",
       "      <td>1=汉族</td>\n",
       "      <td>温州</td>\n",
       "      <td>35</td>\n",
       "      <td>164.0</td>\n",
       "      <td>64.0</td>\n",
       "      <td>36.5</td>\n",
       "      <td>80.0</td>\n",
       "      <td>1.12</td>\n",
       "      <td>8.32</td>\n",
       "      <td>4.6</td>\n",
       "      <td>1</td>\n",
       "      <td>1</td>\n",
       "      <td>0</td>\n",
       "      <td>NaN</td>\n",
       "    </tr>\n",
       "    <tr>\n",
       "      <th>1</th>\n",
       "      <td>train_0209.wav</td>\n",
       "      <td>524215/Ausculation_Report_Eko_Recording_140114.wav</td>\n",
       "      <td>524215</td>\n",
       "      <td>叶思思</td>\n",
       "      <td>Ye, Sisi</td>\n",
       "      <td>1=男</td>\n",
       "      <td>1=汉族</td>\n",
       "      <td>温州</td>\n",
       "      <td>35</td>\n",
       "      <td>164.0</td>\n",
       "      <td>64.0</td>\n",
       "      <td>36.5</td>\n",
       "      <td>80.0</td>\n",
       "      <td>1.12</td>\n",
       "      <td>8.32</td>\n",
       "      <td>4.6</td>\n",
       "      <td>1</td>\n",
       "      <td>1</td>\n",
       "      <td>0</td>\n",
       "      <td>NaN</td>\n",
       "    </tr>\n",
       "    <tr>\n",
       "      <th>2</th>\n",
       "      <td>train_0200.wav</td>\n",
       "      <td>524215/Ausculation_Report_Eko_Recording_140112.wav</td>\n",
       "      <td>524215</td>\n",
       "      <td>叶思思</td>\n",
       "      <td>Ye, Sisi</td>\n",
       "      <td>1=男</td>\n",
       "      <td>1=汉族</td>\n",
       "      <td>温州</td>\n",
       "      <td>35</td>\n",
       "      <td>164.0</td>\n",
       "      <td>64.0</td>\n",
       "      <td>36.5</td>\n",
       "      <td>80.0</td>\n",
       "      <td>1.12</td>\n",
       "      <td>8.32</td>\n",
       "      <td>4.6</td>\n",
       "      <td>1</td>\n",
       "      <td>1</td>\n",
       "      <td>0</td>\n",
       "      <td>NaN</td>\n",
       "    </tr>\n",
       "    <tr>\n",
       "      <th>3</th>\n",
       "      <td>train_0201.wav</td>\n",
       "      <td>524215/Ausculation_Report_Eko_Recording_140113.wav</td>\n",
       "      <td>524215</td>\n",
       "      <td>叶思思</td>\n",
       "      <td>Ye, Sisi</td>\n",
       "      <td>1=男</td>\n",
       "      <td>1=汉族</td>\n",
       "      <td>温州</td>\n",
       "      <td>35</td>\n",
       "      <td>164.0</td>\n",
       "      <td>64.0</td>\n",
       "      <td>36.5</td>\n",
       "      <td>80.0</td>\n",
       "      <td>1.12</td>\n",
       "      <td>8.32</td>\n",
       "      <td>4.6</td>\n",
       "      <td>1</td>\n",
       "      <td>1</td>\n",
       "      <td>0</td>\n",
       "      <td>NaN</td>\n",
       "    </tr>\n",
       "    <tr>\n",
       "      <th>4</th>\n",
       "      <td>train_0159.wav</td>\n",
       "      <td>615897/Ausculation_Report_Eko_Recording_141773.wav</td>\n",
       "      <td>615897</td>\n",
       "      <td>叶晓霞</td>\n",
       "      <td>Ye,Xiaoxia</td>\n",
       "      <td>2=女</td>\n",
       "      <td>1=汉族</td>\n",
       "      <td>永嘉</td>\n",
       "      <td>69</td>\n",
       "      <td>156.0</td>\n",
       "      <td>50.0</td>\n",
       "      <td>36.9</td>\n",
       "      <td>60.0</td>\n",
       "      <td>2.53</td>\n",
       "      <td>12.34</td>\n",
       "      <td>4.2</td>\n",
       "      <td>0</td>\n",
       "      <td>0</td>\n",
       "      <td>1</td>\n",
       "      <td>NaN</td>\n",
       "    </tr>\n",
       "  </tbody>\n",
       "</table>\n",
       "</div>"
      ],
      "text/plain": [
       "         filename                                       orig_filename      id  \\\n",
       "0  train_0043.wav  524215/Ausculation_Report_Eko_Recording_140111.wav  524215   \n",
       "1  train_0209.wav  524215/Ausculation_Report_Eko_Recording_140114.wav  524215   \n",
       "2  train_0200.wav  524215/Ausculation_Report_Eko_Recording_140112.wav  524215   \n",
       "3  train_0201.wav  524215/Ausculation_Report_Eko_Recording_140113.wav  524215   \n",
       "4  train_0159.wav  615897/Ausculation_Report_Eko_Recording_141773.wav  615897   \n",
       "\n",
       "  name    eng_name gender   cul hometown  age  height  weight  temp   bpm  \\\n",
       "0  叶思思    Ye, Sisi    1=男  1=汉族       温州   35   164.0    64.0  36.5  80.0   \n",
       "1  叶思思    Ye, Sisi    1=男  1=汉族       温州   35   164.0    64.0  36.5  80.0   \n",
       "2  叶思思    Ye, Sisi    1=男  1=汉族       温州   35   164.0    64.0  36.5  80.0   \n",
       "3  叶思思    Ye, Sisi    1=男  1=汉族       温州   35   164.0    64.0  36.5  80.0   \n",
       "4  叶晓霞  Ye,Xiaoxia    2=女  1=汉族       永嘉   69   156.0    50.0  36.9  60.0   \n",
       "\n",
       "    tsh     t4   t3  tsh_label  t3_label  t4_label valid  \n",
       "0  1.12   8.32  4.6          1         1         0   NaN  \n",
       "1  1.12   8.32  4.6          1         1         0   NaN  \n",
       "2  1.12   8.32  4.6          1         1         0   NaN  \n",
       "3  1.12   8.32  4.6          1         1         0   NaN  \n",
       "4  2.53  12.34  4.2          0         0         1   NaN  "
      ]
     },
     "execution_count": 4,
     "metadata": {},
     "output_type": "execute_result"
    }
   ],
   "source": [
    "df_train.head()"
   ]
  },
  {
   "cell_type": "code",
   "execution_count": 4,
   "metadata": {},
   "outputs": [],
   "source": [
    "def get_train_transform():\n",
    "    return A.Compose([\n",
    "        #A.HorizontalFlip(p=0.5),\n",
    "        #A.VerticalFlip(p=0.5),\n",
    "        #A.Resize(height=512,width=512,p=1.0),\n",
    "        A.Normalize(p=1.0),\n",
    "        ToTensorV2(p=1.0),\n",
    "    ],p=1.0)\n",
    "\n",
    "def get_valid_transform():\n",
    "    return A.Compose([\n",
    "        #A.Resize(height=512,width=512,p=1.0),\n",
    "        A.Normalize(p=1.0),\n",
    "        ToTensorV2(p=1.0),\n",
    "    ],p=1.0)"
   ]
  },
  {
   "cell_type": "code",
   "execution_count": 5,
   "metadata": {},
   "outputs": [],
   "source": [
    "train_ds = MelSpectrogram_Classification_Dataset(df_train,audio_data,img_tfms=get_train_transform())\n",
    "valid_ds = MelSpectrogram_Classification_Dataset(df_valid,audio_data,img_tfms=get_valid_transform())"
   ]
  },
  {
   "cell_type": "code",
   "execution_count": 6,
   "metadata": {},
   "outputs": [],
   "source": [
    "#Mish - \"Mish: A Self Regularized Non-Monotonic Neural Activation Function\"\n",
    "#https://arxiv.org/abs/1908.08681v1\n",
    "#implemented for PyTorch / FastAI by lessw2020 \n",
    "#github: https://github.com/lessw2020/mish\n",
    "class Mish(nn.Module):\n",
    "    def __init__(self):\n",
    "        super().__init__()\n",
    "\n",
    "    def forward(self, x):\n",
    "        #inlining this saves 1 second per epoch (V100 GPU) vs having a temp x and then returning x(!)\n",
    "        return x * (torch.tanh(F.softplus(x)))"
   ]
  },
  {
   "cell_type": "code",
   "execution_count": 7,
   "metadata": {},
   "outputs": [],
   "source": [
    "class Model_Head(nn.Module):\n",
    "    def __init__(self,ni,nc,ps=0.25):\n",
    "        '''\n",
    "        ni : input filter size\n",
    "        nc : output class size\n",
    "        ps : dropout rate\n",
    "        '''\n",
    "        super().__init__()\n",
    "        layers = ([Mish(),ConvLayer(ni,ni,act_cls=None),AdaptiveConcatPool2d(),\n",
    "                   Flatten(), LinBnDrop(ni*2,512,p=ps,act=Mish()), \n",
    "                   LinBnDrop(512,nc,p=ps*2)])\n",
    "        self.head = nn.Sequential(*layers)\n",
    "    \n",
    "    def forward(self,xb):\n",
    "        return self.head(xb)\n",
    "    \n",
    "class Resnet_audio(nn.Module):\n",
    "    def __init__(self,arch,nc=[2,2,2],pretrained=True):\n",
    "        super().__init__()\n",
    "        self.body = nn.Sequential(*list(arch(pretrained=pretrained).children())[:-2])\n",
    "       \n",
    "        # change input filter size to 1\n",
    "#         nf,ni,h,w = self.body[0].weight.shape\n",
    "#         w = self.body[0].weight.sum(dim=1,keepdim=True)\n",
    "#         conv_input = conv2d(1,nf,ks=h)\n",
    "#         conv_input.weight.data = w\n",
    "#         self.body[0] = conv_input\n",
    "        \n",
    "        # multi-head output\n",
    "        # 1,1,1 regression head\n",
    "        ni = num_features_model(self.body)\n",
    "        self.head_tsh = Model_Head(ni,nc[0])\n",
    "        self.head_t3 = Model_Head(ni,nc[1])\n",
    "        self.head_t4 = Model_Head(ni,nc[2])\n",
    "    \n",
    "    def forward(self,x):\n",
    "        x = self.body(x)\n",
    "        return (self.head_tsh(x),self.head_t3(x),self.head_t4(x))\n",
    "    \n",
    "# replace all relu layer with Mish        \n",
    "def to_mish(model):\n",
    "    for name,child in model.named_children():\n",
    "        if isinstance(child,nn.ReLU):\n",
    "            setattr(model,name,Mish())\n",
    "        else:\n",
    "            to_mish(child)"
   ]
  },
  {
   "cell_type": "code",
   "execution_count": 8,
   "metadata": {},
   "outputs": [],
   "source": [
    "model = Resnet_audio(torch_models.resnet34).cuda()"
   ]
  },
  {
   "cell_type": "code",
   "execution_count": 9,
   "metadata": {},
   "outputs": [],
   "source": [
    "class Loss_multi_head(nn.Module):\n",
    "    def __init__(self,weights=[1,1,1]):\n",
    "        super().__init__()\n",
    "        self.weights = weights\n",
    "        \n",
    "    def forward(self,preds,target,reduction='mean'):\n",
    "        outp_tsh,outp_t3,outp_t4 = preds\n",
    "        outp_tsh,outp_t3,outp_t4 = outp_tsh.float(),outp_t3.float(),outp_t4.float()\n",
    "        targ_tsh,targ_t3,targ_t4 = target[0]\n",
    "        #targ_tsh,targ_t3,targ_t4 = targ_tsh.argmax(1).long(), targ_t3.argmax(1).long(),targ_t4.argmax(1).long()\n",
    "        return (\n",
    "            self.weights[0] * F.cross_entropy(outp_tsh,targ_tsh.long(),reduction=reduction) \n",
    "            + self.weights[1] * F.cross_entropy(outp_t3,targ_t3.long(),reduction=reduction) \n",
    "            + self.weights[2] * F.cross_entropy(outp_t4,targ_t4.long(),reduction=reduction)\n",
    "               )\n",
    "        "
   ]
  },
  {
   "cell_type": "code",
   "execution_count": 10,
   "metadata": {},
   "outputs": [],
   "source": [
    "loss_func = Loss_multi_head()"
   ]
  },
  {
   "cell_type": "code",
   "execution_count": 11,
   "metadata": {},
   "outputs": [],
   "source": [
    "from fastai.data.core import DataLoaders"
   ]
  },
  {
   "cell_type": "code",
   "execution_count": 12,
   "metadata": {},
   "outputs": [],
   "source": [
    "tr_dl = DataLoader(train_ds,batch_size=32,num_workers=4,shuffle=True)\n",
    "vl_dl = DataLoader(valid_ds,batch_size=32,num_workers=4)"
   ]
  },
  {
   "cell_type": "code",
   "execution_count": 13,
   "metadata": {},
   "outputs": [],
   "source": [
    "dls = DataLoaders(tr_dl,vl_dl,device='cuda')"
   ]
  },
  {
   "cell_type": "markdown",
   "metadata": {},
   "source": [
    "# test del"
   ]
  },
  {
   "cell_type": "code",
   "execution_count": 21,
   "metadata": {},
   "outputs": [],
   "source": [
    "f1s = F1Score()"
   ]
  },
  {
   "cell_type": "code",
   "execution_count": 14,
   "metadata": {},
   "outputs": [],
   "source": [
    "xb,yb = next(iter(dls[0]))"
   ]
  },
  {
   "cell_type": "code",
   "execution_count": 15,
   "metadata": {},
   "outputs": [],
   "source": [
    "preds = model(xb.cuda())"
   ]
  },
  {
   "cell_type": "code",
   "execution_count": 17,
   "metadata": {},
   "outputs": [
    {
     "data": {
      "text/plain": [
       "tensor([[ 1.2225, -0.3003],\n",
       "        [ 0.4060, -0.3629],\n",
       "        [-0.7125,  0.3356],\n",
       "        [ 1.2908,  1.0360],\n",
       "        [-0.0325,  0.3196],\n",
       "        [ 1.3451,  0.5118],\n",
       "        [-1.2535, -0.1317],\n",
       "        [ 0.7269,  1.3238],\n",
       "        [-1.3517, -0.0999],\n",
       "        [-0.5320, -0.1781],\n",
       "        [ 0.2035,  0.6067],\n",
       "        [ 0.0813, -1.1478],\n",
       "        [-0.6715,  0.4679],\n",
       "        [-0.8626,  0.2918],\n",
       "        [-0.5770, -0.9782],\n",
       "        [ 1.0533, -0.2649],\n",
       "        [-0.1338, -0.3159],\n",
       "        [ 0.6873,  0.2661],\n",
       "        [-0.0565, -0.0999],\n",
       "        [ 0.9291,  0.5481],\n",
       "        [-0.4680, -1.4497],\n",
       "        [-0.9540,  0.6875],\n",
       "        [-1.2681,  0.4070],\n",
       "        [ 0.3946, -0.1680],\n",
       "        [-1.7904, -0.4301],\n",
       "        [-0.1817,  0.2218],\n",
       "        [ 0.0163,  1.5133],\n",
       "        [ 0.7192,  0.2798],\n",
       "        [ 1.9647,  0.0567],\n",
       "        [-0.4915,  0.6645],\n",
       "        [-0.0877, -0.7332],\n",
       "        [ 0.4617,  0.0647]], device='cuda:0', grad_fn=<MmBackward>)"
      ]
     },
     "execution_count": 17,
     "metadata": {},
     "output_type": "execute_result"
    }
   ],
   "source": [
    "preds[0]"
   ]
  },
  {
   "cell_type": "code",
   "execution_count": 31,
   "metadata": {},
   "outputs": [],
   "source": [
    "accuracy??"
   ]
  },
  {
   "cell_type": "code",
   "execution_count": 41,
   "metadata": {},
   "outputs": [
    {
     "data": {
      "text/plain": [
       "array(0.34375, dtype=float32)"
      ]
     },
     "execution_count": 41,
     "metadata": {},
     "output_type": "execute_result"
    }
   ],
   "source": [
    "accuracy(preds[0],yb[0][0]).cpu().numpy()"
   ]
  },
  {
   "cell_type": "code",
   "execution_count": 28,
   "metadata": {},
   "outputs": [
    {
     "data": {
      "text/plain": [
       "0.5425558312655087"
      ]
     },
     "execution_count": 28,
     "metadata": {},
     "output_type": "execute_result"
    }
   ],
   "source": [
    "np.average([f1s(preds[0].argmax(-1),yb[0][0]),f1s(preds[1].argmax(-1),yb[0][1]),f1s(preds[2].argmax(-1),yb[0][2])])"
   ]
  },
  {
   "cell_type": "markdown",
   "metadata": {},
   "source": [
    "# done del"
   ]
  },
  {
   "cell_type": "code",
   "execution_count": 14,
   "metadata": {},
   "outputs": [],
   "source": [
    "def f1_total(preds,targs,f1s=F1Score()):\n",
    "    return np.average([f1s(preds[0].argmax(-1),targs[0][0]),\n",
    "                f1s(preds[1].argmax(-1),targs[0][1]),\n",
    "                f1s(preds[2].argmax(-1),targs[0][2])])\n",
    "\n",
    "def f1_tsh(preds,targs,f1s=F1Score()):\n",
    "    return f1s(preds[0].argmax(-1),targs[0][0])\n",
    "\n",
    "def f1_t3(preds,targs,f1s=F1Score()):\n",
    "    return f1s(preds[1].argmax(-1),targs[0][1])\n",
    "\n",
    "def f1_t4(preds,targs,f1s=F1Score()):\n",
    "    return f1s(preds[2].argmax(-1),targs[0][2])\n",
    "\n",
    "def acc_total(preds,targs):\n",
    "    return np.average([accuracy(preds[0],targs[0][0]).cpu().numpy(),\n",
    "                       accuracy(preds[1],targs[0][1]).cpu().numpy(),\n",
    "                       accuracy(preds[2],targs[0][2]).cpu().numpy()])\n",
    "\n",
    "def rcl_tot(preds,targs,rcl=Recall()):\n",
    "    return np.average([rcl(preds[0].argmax(-1),targs[0][0]),\n",
    "                      rcl(preds[1].argmax(-1),targs[0][1]),\n",
    "                      rcl(preds[2].argmax(-1),targs[0][2])])"
   ]
  },
  {
   "cell_type": "code",
   "execution_count": 15,
   "metadata": {},
   "outputs": [],
   "source": [
    "learn = Learner(dls,model,loss_func=loss_func,metrics=[f1_tsh,f1_t3,f1_t4,f1_total,acc_total,rcl_tot])"
   ]
  },
  {
   "cell_type": "code",
   "execution_count": 16,
   "metadata": {},
   "outputs": [
    {
     "data": {
      "text/html": [],
      "text/plain": [
       "<IPython.core.display.HTML object>"
      ]
     },
     "metadata": {},
     "output_type": "display_data"
    },
    {
     "data": {
      "text/plain": [
       "SuggestedLRs(lr_min=4.786300996784121e-05, lr_steep=5.248074739938602e-05)"
      ]
     },
     "execution_count": 16,
     "metadata": {},
     "output_type": "execute_result"
    },
    {
     "data": {
      "image/png": "[encoded data removed]",
      "text/plain": [
       "<Figure size 432x288 with 1 Axes>"
      ]
     },
     "metadata": {
      "needs_background": "light"
     },
     "output_type": "display_data"
    }
   ],
   "source": [
    "learn.lr_find()"
   ]
  },
  {
   "cell_type": "code",
   "execution_count": 17,
   "metadata": {},
   "outputs": [
    {
     "data": {
      "text/html": [
       "<table border=\"1\" class=\"dataframe\">\n",
       "  <thead>\n",
       "    <tr style=\"text-align: left;\">\n",
       "      <th>epoch</th>\n",
       "      <th>train_loss</th>\n",
       "      <th>valid_loss</th>\n",
       "      <th>f1_tsh</th>\n",
       "      <th>f1_t3</th>\n",
       "      <th>f1_t4</th>\n",
       "      <th>f1_total</th>\n",
       "      <th>acc_total</th>\n",
       "      <th>rcl_tot</th>\n",
       "      <th>time</th>\n",
       "    </tr>\n",
       "  </thead>\n",
       "  <tbody>\n",
       "    <tr>\n",
       "      <td>0</td>\n",
       "      <td>2.502216</td>\n",
       "      <td>2.376539</td>\n",
       "      <td>0.603415</td>\n",
       "      <td>0.634955</td>\n",
       "      <td>0.613839</td>\n",
       "      <td>0.617403</td>\n",
       "      <td>0.486005</td>\n",
       "      <td>0.918745</td>\n",
       "      <td>00:14</td>\n",
       "    </tr>\n",
       "    <tr>\n",
       "      <td>1</td>\n",
       "      <td>2.445487</td>\n",
       "      <td>2.518997</td>\n",
       "      <td>0.609977</td>\n",
       "      <td>0.610101</td>\n",
       "      <td>0.574680</td>\n",
       "      <td>0.598253</td>\n",
       "      <td>0.501272</td>\n",
       "      <td>0.812641</td>\n",
       "      <td>00:15</td>\n",
       "    </tr>\n",
       "    <tr>\n",
       "      <td>2</td>\n",
       "      <td>2.378680</td>\n",
       "      <td>2.303518</td>\n",
       "      <td>0.449044</td>\n",
       "      <td>0.592667</td>\n",
       "      <td>0.522322</td>\n",
       "      <td>0.521345</td>\n",
       "      <td>0.496183</td>\n",
       "      <td>0.604777</td>\n",
       "      <td>00:15</td>\n",
       "    </tr>\n",
       "    <tr>\n",
       "      <td>3</td>\n",
       "      <td>2.254030</td>\n",
       "      <td>2.243997</td>\n",
       "      <td>0.409248</td>\n",
       "      <td>0.480525</td>\n",
       "      <td>0.476895</td>\n",
       "      <td>0.455556</td>\n",
       "      <td>0.506361</td>\n",
       "      <td>0.449063</td>\n",
       "      <td>00:14</td>\n",
       "    </tr>\n",
       "    <tr>\n",
       "      <td>4</td>\n",
       "      <td>2.124595</td>\n",
       "      <td>2.239416</td>\n",
       "      <td>0.378178</td>\n",
       "      <td>0.569577</td>\n",
       "      <td>0.435946</td>\n",
       "      <td>0.461234</td>\n",
       "      <td>0.526718</td>\n",
       "      <td>0.459066</td>\n",
       "      <td>00:14</td>\n",
       "    </tr>\n",
       "    <tr>\n",
       "      <td>5</td>\n",
       "      <td>1.951830</td>\n",
       "      <td>2.270096</td>\n",
       "      <td>0.469371</td>\n",
       "      <td>0.600735</td>\n",
       "      <td>0.451264</td>\n",
       "      <td>0.507123</td>\n",
       "      <td>0.534351</td>\n",
       "      <td>0.533104</td>\n",
       "      <td>00:14</td>\n",
       "    </tr>\n",
       "    <tr>\n",
       "      <td>6</td>\n",
       "      <td>1.788476</td>\n",
       "      <td>2.275790</td>\n",
       "      <td>0.423139</td>\n",
       "      <td>0.630135</td>\n",
       "      <td>0.473370</td>\n",
       "      <td>0.508881</td>\n",
       "      <td>0.544529</td>\n",
       "      <td>0.536496</td>\n",
       "      <td>00:14</td>\n",
       "    </tr>\n",
       "    <tr>\n",
       "      <td>7</td>\n",
       "      <td>1.592485</td>\n",
       "      <td>2.362410</td>\n",
       "      <td>0.372441</td>\n",
       "      <td>0.563626</td>\n",
       "      <td>0.447419</td>\n",
       "      <td>0.461162</td>\n",
       "      <td>0.539440</td>\n",
       "      <td>0.443547</td>\n",
       "      <td>00:14</td>\n",
       "    </tr>\n",
       "    <tr>\n",
       "      <td>8</td>\n",
       "      <td>1.388471</td>\n",
       "      <td>2.380539</td>\n",
       "      <td>0.501776</td>\n",
       "      <td>0.598412</td>\n",
       "      <td>0.506386</td>\n",
       "      <td>0.535524</td>\n",
       "      <td>0.580153</td>\n",
       "      <td>0.546248</td>\n",
       "      <td>00:14</td>\n",
       "    </tr>\n",
       "    <tr>\n",
       "      <td>9</td>\n",
       "      <td>1.174009</td>\n",
       "      <td>2.621809</td>\n",
       "      <td>0.518227</td>\n",
       "      <td>0.628404</td>\n",
       "      <td>0.512338</td>\n",
       "      <td>0.552990</td>\n",
       "      <td>0.562341</td>\n",
       "      <td>0.604690</td>\n",
       "      <td>00:14</td>\n",
       "    </tr>\n",
       "    <tr>\n",
       "      <td>10</td>\n",
       "      <td>0.981672</td>\n",
       "      <td>2.895166</td>\n",
       "      <td>0.414847</td>\n",
       "      <td>0.619257</td>\n",
       "      <td>0.412522</td>\n",
       "      <td>0.482209</td>\n",
       "      <td>0.539440</td>\n",
       "      <td>0.490520</td>\n",
       "      <td>00:14</td>\n",
       "    </tr>\n",
       "    <tr>\n",
       "      <td>11</td>\n",
       "      <td>0.818150</td>\n",
       "      <td>3.024863</td>\n",
       "      <td>0.469321</td>\n",
       "      <td>0.600393</td>\n",
       "      <td>0.529262</td>\n",
       "      <td>0.532992</td>\n",
       "      <td>0.572519</td>\n",
       "      <td>0.544048</td>\n",
       "      <td>00:14</td>\n",
       "    </tr>\n",
       "    <tr>\n",
       "      <td>12</td>\n",
       "      <td>0.680899</td>\n",
       "      <td>3.117737</td>\n",
       "      <td>0.519950</td>\n",
       "      <td>0.651247</td>\n",
       "      <td>0.444446</td>\n",
       "      <td>0.538548</td>\n",
       "      <td>0.554707</td>\n",
       "      <td>0.574834</td>\n",
       "      <td>00:15</td>\n",
       "    </tr>\n",
       "    <tr>\n",
       "      <td>13</td>\n",
       "      <td>0.562227</td>\n",
       "      <td>3.198537</td>\n",
       "      <td>0.463142</td>\n",
       "      <td>0.611920</td>\n",
       "      <td>0.434901</td>\n",
       "      <td>0.503321</td>\n",
       "      <td>0.554707</td>\n",
       "      <td>0.506301</td>\n",
       "      <td>00:14</td>\n",
       "    </tr>\n",
       "    <tr>\n",
       "      <td>14</td>\n",
       "      <td>0.477539</td>\n",
       "      <td>3.482753</td>\n",
       "      <td>0.430893</td>\n",
       "      <td>0.574814</td>\n",
       "      <td>0.499465</td>\n",
       "      <td>0.501724</td>\n",
       "      <td>0.524173</td>\n",
       "      <td>0.530138</td>\n",
       "      <td>00:14</td>\n",
       "    </tr>\n",
       "    <tr>\n",
       "      <td>15</td>\n",
       "      <td>0.403696</td>\n",
       "      <td>3.574158</td>\n",
       "      <td>0.444749</td>\n",
       "      <td>0.630574</td>\n",
       "      <td>0.453367</td>\n",
       "      <td>0.509564</td>\n",
       "      <td>0.552163</td>\n",
       "      <td>0.532086</td>\n",
       "      <td>00:14</td>\n",
       "    </tr>\n",
       "    <tr>\n",
       "      <td>16</td>\n",
       "      <td>0.334798</td>\n",
       "      <td>3.587906</td>\n",
       "      <td>0.480514</td>\n",
       "      <td>0.637424</td>\n",
       "      <td>0.463017</td>\n",
       "      <td>0.526985</td>\n",
       "      <td>0.557252</td>\n",
       "      <td>0.567195</td>\n",
       "      <td>00:14</td>\n",
       "    </tr>\n",
       "    <tr>\n",
       "      <td>17</td>\n",
       "      <td>0.290390</td>\n",
       "      <td>3.608366</td>\n",
       "      <td>0.434217</td>\n",
       "      <td>0.659863</td>\n",
       "      <td>0.383271</td>\n",
       "      <td>0.492450</td>\n",
       "      <td>0.541985</td>\n",
       "      <td>0.520463</td>\n",
       "      <td>00:14</td>\n",
       "    </tr>\n",
       "    <tr>\n",
       "      <td>18</td>\n",
       "      <td>0.252608</td>\n",
       "      <td>3.727676</td>\n",
       "      <td>0.415758</td>\n",
       "      <td>0.622477</td>\n",
       "      <td>0.407738</td>\n",
       "      <td>0.481991</td>\n",
       "      <td>0.544529</td>\n",
       "      <td>0.489162</td>\n",
       "      <td>00:14</td>\n",
       "    </tr>\n",
       "    <tr>\n",
       "      <td>19</td>\n",
       "      <td>0.226311</td>\n",
       "      <td>3.523592</td>\n",
       "      <td>0.429996</td>\n",
       "      <td>0.617156</td>\n",
       "      <td>0.431587</td>\n",
       "      <td>0.492913</td>\n",
       "      <td>0.557252</td>\n",
       "      <td>0.488320</td>\n",
       "      <td>00:14</td>\n",
       "    </tr>\n",
       "    <tr>\n",
       "      <td>20</td>\n",
       "      <td>0.205632</td>\n",
       "      <td>3.674661</td>\n",
       "      <td>0.441170</td>\n",
       "      <td>0.635284</td>\n",
       "      <td>0.411638</td>\n",
       "      <td>0.496030</td>\n",
       "      <td>0.549618</td>\n",
       "      <td>0.519007</td>\n",
       "      <td>00:14</td>\n",
       "    </tr>\n",
       "    <tr>\n",
       "      <td>21</td>\n",
       "      <td>0.189201</td>\n",
       "      <td>3.620501</td>\n",
       "      <td>0.441290</td>\n",
       "      <td>0.635587</td>\n",
       "      <td>0.486671</td>\n",
       "      <td>0.521183</td>\n",
       "      <td>0.554707</td>\n",
       "      <td>0.548020</td>\n",
       "      <td>00:14</td>\n",
       "    </tr>\n",
       "    <tr>\n",
       "      <td>22</td>\n",
       "      <td>0.166647</td>\n",
       "      <td>3.508743</td>\n",
       "      <td>0.504623</td>\n",
       "      <td>0.566966</td>\n",
       "      <td>0.490066</td>\n",
       "      <td>0.520552</td>\n",
       "      <td>0.559796</td>\n",
       "      <td>0.540808</td>\n",
       "      <td>00:14</td>\n",
       "    </tr>\n",
       "    <tr>\n",
       "      <td>23</td>\n",
       "      <td>0.150052</td>\n",
       "      <td>3.612705</td>\n",
       "      <td>0.469712</td>\n",
       "      <td>0.610849</td>\n",
       "      <td>0.420130</td>\n",
       "      <td>0.500230</td>\n",
       "      <td>0.557252</td>\n",
       "      <td>0.506214</td>\n",
       "      <td>00:14</td>\n",
       "    </tr>\n",
       "    <tr>\n",
       "      <td>24</td>\n",
       "      <td>0.138234</td>\n",
       "      <td>3.662340</td>\n",
       "      <td>0.477686</td>\n",
       "      <td>0.625435</td>\n",
       "      <td>0.494733</td>\n",
       "      <td>0.532618</td>\n",
       "      <td>0.559796</td>\n",
       "      <td>0.567457</td>\n",
       "      <td>00:14</td>\n",
       "    </tr>\n",
       "    <tr>\n",
       "      <td>25</td>\n",
       "      <td>0.131621</td>\n",
       "      <td>3.673521</td>\n",
       "      <td>0.514551</td>\n",
       "      <td>0.654817</td>\n",
       "      <td>0.481030</td>\n",
       "      <td>0.550132</td>\n",
       "      <td>0.577608</td>\n",
       "      <td>0.594840</td>\n",
       "      <td>00:14</td>\n",
       "    </tr>\n",
       "    <tr>\n",
       "      <td>26</td>\n",
       "      <td>0.122313</td>\n",
       "      <td>3.715858</td>\n",
       "      <td>0.500556</td>\n",
       "      <td>0.647143</td>\n",
       "      <td>0.506769</td>\n",
       "      <td>0.551489</td>\n",
       "      <td>0.567430</td>\n",
       "      <td>0.600104</td>\n",
       "      <td>00:14</td>\n",
       "    </tr>\n",
       "    <tr>\n",
       "      <td>27</td>\n",
       "      <td>0.119387</td>\n",
       "      <td>3.764833</td>\n",
       "      <td>0.461274</td>\n",
       "      <td>0.602204</td>\n",
       "      <td>0.409875</td>\n",
       "      <td>0.491118</td>\n",
       "      <td>0.547074</td>\n",
       "      <td>0.499592</td>\n",
       "      <td>00:14</td>\n",
       "    </tr>\n",
       "    <tr>\n",
       "      <td>28</td>\n",
       "      <td>0.112028</td>\n",
       "      <td>3.759288</td>\n",
       "      <td>0.494178</td>\n",
       "      <td>0.601185</td>\n",
       "      <td>0.470412</td>\n",
       "      <td>0.521925</td>\n",
       "      <td>0.557252</td>\n",
       "      <td>0.536332</td>\n",
       "      <td>00:14</td>\n",
       "    </tr>\n",
       "    <tr>\n",
       "      <td>29</td>\n",
       "      <td>0.105456</td>\n",
       "      <td>3.594212</td>\n",
       "      <td>0.482381</td>\n",
       "      <td>0.597771</td>\n",
       "      <td>0.452087</td>\n",
       "      <td>0.510747</td>\n",
       "      <td>0.557252</td>\n",
       "      <td>0.516567</td>\n",
       "      <td>00:14</td>\n",
       "    </tr>\n",
       "    <tr>\n",
       "      <td>30</td>\n",
       "      <td>0.097492</td>\n",
       "      <td>3.643253</td>\n",
       "      <td>0.508904</td>\n",
       "      <td>0.608424</td>\n",
       "      <td>0.474727</td>\n",
       "      <td>0.530685</td>\n",
       "      <td>0.562341</td>\n",
       "      <td>0.549388</td>\n",
       "      <td>00:14</td>\n",
       "    </tr>\n",
       "    <tr>\n",
       "      <td>31</td>\n",
       "      <td>0.096882</td>\n",
       "      <td>3.773636</td>\n",
       "      <td>0.481797</td>\n",
       "      <td>0.630302</td>\n",
       "      <td>0.488800</td>\n",
       "      <td>0.533633</td>\n",
       "      <td>0.569975</td>\n",
       "      <td>0.554729</td>\n",
       "      <td>00:14</td>\n",
       "    </tr>\n",
       "    <tr>\n",
       "      <td>32</td>\n",
       "      <td>0.091670</td>\n",
       "      <td>3.811359</td>\n",
       "      <td>0.472075</td>\n",
       "      <td>0.586429</td>\n",
       "      <td>0.534351</td>\n",
       "      <td>0.530952</td>\n",
       "      <td>0.549618</td>\n",
       "      <td>0.567786</td>\n",
       "      <td>00:14</td>\n",
       "    </tr>\n",
       "    <tr>\n",
       "      <td>33</td>\n",
       "      <td>0.092038</td>\n",
       "      <td>3.707467</td>\n",
       "      <td>0.498448</td>\n",
       "      <td>0.644060</td>\n",
       "      <td>0.484465</td>\n",
       "      <td>0.542324</td>\n",
       "      <td>0.567430</td>\n",
       "      <td>0.582287</td>\n",
       "      <td>00:14</td>\n",
       "    </tr>\n",
       "    <tr>\n",
       "      <td>34</td>\n",
       "      <td>0.088908</td>\n",
       "      <td>3.803286</td>\n",
       "      <td>0.556430</td>\n",
       "      <td>0.570287</td>\n",
       "      <td>0.466411</td>\n",
       "      <td>0.531043</td>\n",
       "      <td>0.562341</td>\n",
       "      <td>0.559818</td>\n",
       "      <td>00:14</td>\n",
       "    </tr>\n",
       "    <tr>\n",
       "      <td>35</td>\n",
       "      <td>0.090222</td>\n",
       "      <td>3.825121</td>\n",
       "      <td>0.403961</td>\n",
       "      <td>0.616350</td>\n",
       "      <td>0.418339</td>\n",
       "      <td>0.479550</td>\n",
       "      <td>0.536896</td>\n",
       "      <td>0.474749</td>\n",
       "      <td>00:14</td>\n",
       "    </tr>\n",
       "    <tr>\n",
       "      <td>36</td>\n",
       "      <td>0.086225</td>\n",
       "      <td>3.873420</td>\n",
       "      <td>0.485404</td>\n",
       "      <td>0.600014</td>\n",
       "      <td>0.536593</td>\n",
       "      <td>0.540670</td>\n",
       "      <td>0.564885</td>\n",
       "      <td>0.573050</td>\n",
       "      <td>00:14</td>\n",
       "    </tr>\n",
       "    <tr>\n",
       "      <td>37</td>\n",
       "      <td>0.080619</td>\n",
       "      <td>3.845834</td>\n",
       "      <td>0.449166</td>\n",
       "      <td>0.599610</td>\n",
       "      <td>0.510565</td>\n",
       "      <td>0.519780</td>\n",
       "      <td>0.549618</td>\n",
       "      <td>0.542691</td>\n",
       "      <td>00:14</td>\n",
       "    </tr>\n",
       "    <tr>\n",
       "      <td>38</td>\n",
       "      <td>0.077779</td>\n",
       "      <td>3.883259</td>\n",
       "      <td>0.409116</td>\n",
       "      <td>0.625227</td>\n",
       "      <td>0.488502</td>\n",
       "      <td>0.507615</td>\n",
       "      <td>0.539440</td>\n",
       "      <td>0.542001</td>\n",
       "      <td>00:14</td>\n",
       "    </tr>\n",
       "    <tr>\n",
       "      <td>39</td>\n",
       "      <td>0.079082</td>\n",
       "      <td>3.750614</td>\n",
       "      <td>0.483191</td>\n",
       "      <td>0.597648</td>\n",
       "      <td>0.453358</td>\n",
       "      <td>0.511399</td>\n",
       "      <td>0.547074</td>\n",
       "      <td>0.528354</td>\n",
       "      <td>00:14</td>\n",
       "    </tr>\n",
       "  </tbody>\n",
       "</table>"
      ],
      "text/plain": [
       "<IPython.core.display.HTML object>"
      ]
     },
     "metadata": {},
     "output_type": "display_data"
    },
    {
     "name": "stderr",
     "output_type": "stream",
     "text": [
      "/opt/conda/lib/python3.7/site-packages/sklearn/metrics/_classification.py:1221: UndefinedMetricWarning: Recall is ill-defined and being set to 0.0 due to no true samples. Use `zero_division` parameter to control this behavior.\n",
      "  _warn_prf(average, modifier, msg_start, len(result))\n",
      "/opt/conda/lib/python3.7/site-packages/sklearn/metrics/_classification.py:1465: UndefinedMetricWarning: F-score is ill-defined and being set to 0.0 due to no true nor predicted samples. Use `zero_division` parameter to control this behavior.\n",
      "  average, \"true nor predicted\", 'F-score is', len(true_sum)\n"
     ]
    }
   ],
   "source": [
    "learn.fit_one_cycle(40,3e-5)"
   ]
  },
  {
   "cell_type": "code",
   "execution_count": 18,
   "metadata": {},
   "outputs": [
    {
     "data": {
      "image/png": "[encoded data removed]",
      "text/plain": [
       "<Figure size 432x288 with 1 Axes>"
      ]
     },
     "metadata": {
      "needs_background": "light"
     },
     "output_type": "display_data"
    }
   ],
   "source": [
    "learn.recorder.plot_loss()"
   ]
  },
  {
   "cell_type": "markdown",
   "metadata": {},
   "source": [
    "# Fin multi-model"
   ]
  },
  {
   "cell_type": "code",
   "execution_count": null,
   "metadata": {},
   "outputs": [],
   "source": []
  },
  {
   "cell_type": "code",
   "execution_count": null,
   "metadata": {},
   "outputs": [],
   "source": []
  },
  {
   "cell_type": "code",
   "execution_count": null,
   "metadata": {},
   "outputs": [],
   "source": []
  },
  {
   "cell_type": "code",
   "execution_count": null,
   "metadata": {},
   "outputs": [],
   "source": []
  },
  {
   "cell_type": "code",
   "execution_count": null,
   "metadata": {},
   "outputs": [],
   "source": []
  },
  {
   "cell_type": "code",
   "execution_count": null,
   "metadata": {},
   "outputs": [],
   "source": []
  },
  {
   "cell_type": "code",
   "execution_count": 147,
   "metadata": {},
   "outputs": [],
   "source": [
    "x,y = dls[0].one_batch()"
   ]
  },
  {
   "cell_type": "code",
   "execution_count": 148,
   "metadata": {},
   "outputs": [],
   "source": [
    "preds = learn.model(x)"
   ]
  },
  {
   "cell_type": "code",
   "execution_count": 149,
   "metadata": {},
   "outputs": [],
   "source": [
    "tsh,t3,t4 = preds"
   ]
  },
  {
   "cell_type": "code",
   "execution_count": 150,
   "metadata": {},
   "outputs": [
    {
     "data": {
      "text/plain": [
       "(tensor([0, 0, 0, 0, 0, 0, 0, 0, 0, 0, 0, 0, 0, 0, 0, 0, 0, 0, 0, 0, 0, 0, 0, 0,\n",
       "         0, 0, 0, 0, 0, 0, 0, 0], device='cuda:0'),\n",
       " tensor([0, 0, 0, 0, 0, 0, 0, 0, 0, 0, 0, 0, 0, 0, 0, 0, 0, 0, 0, 0, 0, 0, 0, 0,\n",
       "         0, 0, 0, 0, 0, 0, 0, 0], device='cuda:0'))"
      ]
     },
     "execution_count": 150,
     "metadata": {},
     "output_type": "execute_result"
    }
   ],
   "source": [
    "tsh.argmax(-1),y[0][0].argmax(1)"
   ]
  },
  {
   "cell_type": "code",
   "execution_count": 151,
   "metadata": {},
   "outputs": [
    {
     "data": {
      "text/plain": [
       "(tensor([0, 0, 0, 0, 0, 0, 0, 0, 0, 0, 0, 0, 0, 0, 0, 0, 0, 0, 0, 0, 0, 0, 0, 0,\n",
       "         0, 0, 0, 0, 0, 0, 0, 0], device='cuda:0'),\n",
       " tensor([0, 0, 0, 0, 0, 0, 0, 0, 0, 0, 0, 0, 0, 0, 0, 0, 0, 0, 0, 0, 0, 0, 0, 0,\n",
       "         0, 0, 0, 0, 0, 0, 0, 0], device='cuda:0'))"
      ]
     },
     "execution_count": 151,
     "metadata": {},
     "output_type": "execute_result"
    }
   ],
   "source": [
    "t3.argmax(-1),y[0][1].argmax(1)"
   ]
  },
  {
   "cell_type": "code",
   "execution_count": 152,
   "metadata": {},
   "outputs": [
    {
     "data": {
      "text/plain": [
       "(tensor([0, 0, 0, 0, 0, 0, 0, 0, 0, 0, 0, 0, 0, 0, 0, 0, 0, 0, 0, 0, 0, 0, 0, 0,\n",
       "         0, 0, 0, 0, 0, 0, 0, 0], device='cuda:0'),\n",
       " tensor([0, 0, 0, 0, 0, 0, 0, 0, 0, 0, 0, 0, 0, 0, 0, 0, 0, 0, 0, 0, 0, 0, 0, 0,\n",
       "         0, 0, 0, 0, 0, 0, 0, 0], device='cuda:0'))"
      ]
     },
     "execution_count": 152,
     "metadata": {},
     "output_type": "execute_result"
    }
   ],
   "source": [
    "t4.argmax(-1),y[0][2].argmax(1)"
   ]
  },
  {
   "cell_type": "code",
   "execution_count": 153,
   "metadata": {},
   "outputs": [],
   "source": [
    "tsh,t3,t4 = [],[],[]\n",
    "g_tsh,g_t3,g_t4 = [],[],[]\n",
    "for x,y in dls[0]:\n",
    "    preds = learn.model(x)\n",
    "    tsh.append(preds[0].argmax(-1))\n",
    "    t3.append(preds[1].argmax(-1))\n",
    "    t4.append(preds[2].argmax(-1))\n",
    "    g_tsh.append(y[0][0].argmax(1))\n",
    "    g_t3.append(y[0][1].argmax(1))\n",
    "    g_t4.append(y[0][2].argmax(1))"
   ]
  },
  {
   "cell_type": "code",
   "execution_count": 154,
   "metadata": {},
   "outputs": [
    {
     "data": {
      "text/plain": [
       "([tensor([0, 0, 0, 0, 0, 0, 0, 0, 0, 0, 0, 0, 0, 0, 0, 0, 0, 0, 0, 0, 0, 0, 0, 0,\n",
       "          0, 0, 0, 0, 0, 0, 0, 0], device='cuda:0'),\n",
       "  tensor([0, 0, 0, 0, 0, 0, 0, 0, 0, 0, 0, 0, 0, 0, 0, 0, 0, 0, 0, 0, 0, 0, 0, 0,\n",
       "          0, 0, 0, 0, 0, 0, 0, 0], device='cuda:0'),\n",
       "  tensor([0, 0, 0, 0, 0, 0, 0, 0, 0, 0, 0, 0, 0, 0, 0, 0, 0, 0, 0, 0, 0, 0, 0, 0,\n",
       "          0, 0, 0, 0, 0, 0, 0, 0], device='cuda:0'),\n",
       "  tensor([0, 0, 0, 0, 0, 0, 0, 0, 0, 0, 0, 0, 0, 0, 0, 0, 0, 0, 0, 0, 0, 0, 0, 0,\n",
       "          0, 0, 0, 0, 0, 0, 0, 0], device='cuda:0'),\n",
       "  tensor([0, 0, 0, 0, 0, 0, 0, 0, 0, 0, 0, 0, 0, 0, 0, 0, 0, 0, 0, 0, 0, 0, 0, 0,\n",
       "          0, 0, 0, 0, 0, 0, 0, 0], device='cuda:0'),\n",
       "  tensor([0, 0, 0, 0, 0, 0, 0, 0, 0, 0, 0, 0, 0, 0, 0, 0, 0, 0, 0, 0, 0, 0, 0, 0,\n",
       "          0, 0, 0, 0, 0, 0, 0, 0], device='cuda:0'),\n",
       "  tensor([0, 0, 0, 0, 0, 0, 0, 0, 0, 0, 0, 0, 0, 0, 0, 0, 0, 0, 0, 0, 0, 0, 0, 0,\n",
       "          0, 0, 0, 0, 0, 0, 0, 0], device='cuda:0'),\n",
       "  tensor([0, 0, 0, 0, 0, 0, 0, 0, 0, 0, 0, 0, 0, 0, 0, 0, 0, 0, 0, 0, 0, 0, 0, 0,\n",
       "          0, 0, 0, 0, 0, 0, 0, 0], device='cuda:0'),\n",
       "  tensor([0, 0, 0, 0, 0, 0, 0, 0, 0, 0, 0, 0, 0, 0, 0, 0, 0, 0, 0, 0, 0, 0, 0, 0,\n",
       "          0, 0, 0, 0, 0, 0, 0, 0], device='cuda:0'),\n",
       "  tensor([0, 0, 0, 0, 0, 0, 0, 0, 0, 0, 0, 0, 0, 0, 0, 0, 0, 0, 0, 0, 0, 0, 0, 0,\n",
       "          0, 0, 0, 0, 0, 0, 0, 0], device='cuda:0'),\n",
       "  tensor([0, 0, 0, 0, 0, 0, 0, 0, 0, 0, 0, 0, 0, 0, 0, 0, 0, 0, 0, 0, 0, 0, 0, 0,\n",
       "          0, 0, 0, 0, 0, 0, 0, 0], device='cuda:0'),\n",
       "  tensor([0, 0, 0, 0, 0, 0, 0, 0, 0, 0, 0, 0, 0, 0, 0, 0, 0, 0, 0, 0, 0, 0, 0, 0,\n",
       "          0, 0, 0, 0, 0, 0, 0, 0], device='cuda:0'),\n",
       "  tensor([0, 0, 0, 0, 0, 0, 0, 0, 0, 0], device='cuda:0')],\n",
       " [tensor([0, 0, 0, 0, 0, 0, 0, 0, 0, 0, 0, 0, 0, 0, 0, 0, 0, 0, 0, 0, 0, 0, 0, 0,\n",
       "          0, 0, 0, 0, 0, 0, 0, 0], device='cuda:0'),\n",
       "  tensor([0, 0, 0, 0, 0, 0, 0, 0, 0, 0, 0, 0, 0, 0, 0, 0, 0, 0, 0, 0, 0, 0, 0, 0,\n",
       "          0, 0, 0, 0, 0, 0, 0, 0], device='cuda:0'),\n",
       "  tensor([0, 0, 0, 0, 0, 0, 0, 0, 0, 0, 0, 0, 0, 0, 0, 0, 0, 0, 0, 0, 0, 0, 0, 0,\n",
       "          0, 0, 0, 0, 0, 0, 0, 0], device='cuda:0'),\n",
       "  tensor([0, 0, 0, 0, 0, 0, 0, 0, 0, 0, 0, 0, 0, 0, 0, 0, 0, 0, 0, 0, 0, 0, 0, 0,\n",
       "          0, 0, 0, 0, 0, 0, 0, 0], device='cuda:0'),\n",
       "  tensor([0, 0, 1, 1, 1, 1, 0, 0, 0, 0, 0, 0, 0, 0, 0, 0, 0, 0, 0, 0, 0, 0, 0, 0,\n",
       "          0, 0, 0, 1, 1, 1, 1, 0], device='cuda:0'),\n",
       "  tensor([0, 0, 0, 0, 0, 0, 0, 0, 0, 0, 0, 0, 0, 0, 0, 0, 0, 0, 0, 0, 0, 0, 0, 0,\n",
       "          0, 0, 0, 0, 0, 0, 0, 0], device='cuda:0'),\n",
       "  tensor([0, 0, 0, 0, 0, 0, 0, 0, 0, 0, 0, 0, 0, 0, 0, 0, 0, 0, 0, 0, 0, 0, 0, 0,\n",
       "          0, 0, 0, 0, 0, 0, 0, 0], device='cuda:0'),\n",
       "  tensor([0, 0, 0, 0, 0, 0, 0, 0, 0, 0, 0, 0, 0, 0, 0, 0, 0, 0, 0, 0, 0, 0, 0, 0,\n",
       "          0, 0, 0, 0, 0, 0, 0, 0], device='cuda:0'),\n",
       "  tensor([0, 0, 0, 0, 0, 0, 0, 0, 0, 0, 0, 0, 0, 0, 0, 0, 0, 0, 0, 0, 0, 0, 0, 0,\n",
       "          0, 0, 0, 0, 0, 0, 0, 0], device='cuda:0'),\n",
       "  tensor([0, 0, 0, 0, 0, 0, 0, 0, 0, 0, 0, 0, 0, 0, 0, 0, 0, 0, 0, 0, 0, 0, 0, 0,\n",
       "          0, 0, 0, 0, 0, 0, 0, 0], device='cuda:0'),\n",
       "  tensor([0, 0, 0, 0, 0, 0, 0, 0, 0, 0, 0, 0, 1, 1, 1, 1, 1, 1, 1, 1, 1, 1, 1, 1,\n",
       "          1, 1, 1, 1, 1, 1, 1, 1], device='cuda:0'),\n",
       "  tensor([1, 1, 1, 1, 1, 1, 0, 0, 0, 0, 0, 0, 0, 0, 0, 0, 0, 0, 1, 1, 1, 1, 0, 0,\n",
       "          0, 0, 0, 0, 0, 0, 0, 0], device='cuda:0'),\n",
       "  tensor([0, 0, 0, 0, 0, 0, 0, 0, 0, 0], device='cuda:0')])"
      ]
     },
     "execution_count": 154,
     "metadata": {},
     "output_type": "execute_result"
    }
   ],
   "source": [
    "tsh,g_tsh"
   ]
  },
  {
   "cell_type": "code",
   "execution_count": 69,
   "metadata": {},
   "outputs": [
    {
     "data": {
      "text/plain": [
       "Path('/home/heye0507/sz_audio/baseline.pth')"
      ]
     },
     "execution_count": 69,
     "metadata": {},
     "output_type": "execute_result"
    }
   ],
   "source": [
    "learn.save(root+'/baseline')"
   ]
  },
  {
   "cell_type": "code",
   "execution_count": 99,
   "metadata": {},
   "outputs": [],
   "source": [
    "from collections import Counter\n",
    "count = Counter(df_train['tsh_label'].sort_values()).values()\n",
    "class_weights = 1/np.array(list(count))\n",
    "# dsets = block.datasets(df_mix)\n",
    "# wgts = class_weights[dsets.train.items['label']]\n",
    "# dls = block.dataloaders(df_mix, bs=bs,num_workers=num_workers,dl_type=WeightedDL,wgts=wgts)\n",
    "wgts = class_weights[df_train['tsh_label']]"
   ]
  },
  {
   "cell_type": "code",
   "execution_count": 107,
   "metadata": {},
   "outputs": [],
   "source": [
    "weights = torch.from_numpy(wgts)\n",
    "sampler = torch.utils.data.sampler.WeightedRandomSampler(weights.double(), len(weights))\n",
    "#trainloader = torch.utils.data.DataLoader(trainDataset, batch_size = batch_size, sampler = sampler)"
   ]
  },
  {
   "cell_type": "code",
   "execution_count": 108,
   "metadata": {},
   "outputs": [],
   "source": [
    "tr_dl = DataLoader(train_ds,batch_size=32,num_workers=4,sampler=sampler)"
   ]
  },
  {
   "cell_type": "code",
   "execution_count": 109,
   "metadata": {},
   "outputs": [],
   "source": [
    "b = next(iter(tr_dl))"
   ]
  },
  {
   "cell_type": "code",
   "execution_count": 104,
   "metadata": {},
   "outputs": [
    {
     "data": {
      "text/plain": [
       "torch.Size([32, 3, 128, 235])"
      ]
     },
     "execution_count": 104,
     "metadata": {},
     "output_type": "execute_result"
    }
   ],
   "source": [
    "b[0].shape"
   ]
  },
  {
   "cell_type": "code",
   "execution_count": 110,
   "metadata": {},
   "outputs": [
    {
     "data": {
      "text/plain": [
       "tensor([0, 0, 0, 0, 0, 0, 0, 0, 0, 0, 0, 0, 0, 0, 0, 0, 0, 0, 0, 0, 0, 0, 0, 0,\n",
       "        0, 0, 0, 0, 0, 0, 0, 0])"
      ]
     },
     "execution_count": 110,
     "metadata": {},
     "output_type": "execute_result"
    }
   ],
   "source": [
    "b[1][0][0].argmax(1)"
   ]
  },
  {
   "cell_type": "code",
   "execution_count": 111,
   "metadata": {},
   "outputs": [
    {
     "data": {
      "text/plain": [
       "tensor([0, 0, 0, 0, 0, 0, 0, 0, 0, 0, 0, 0, 0, 0, 0, 0, 0, 0, 0, 0, 0, 0, 0, 0,\n",
       "        0, 0, 0, 0, 0, 0, 0, 0])"
      ]
     },
     "execution_count": 111,
     "metadata": {},
     "output_type": "execute_result"
    }
   ],
   "source": [
    "b[1][0][1].argmax(1)"
   ]
  },
  {
   "cell_type": "code",
   "execution_count": 12,
   "metadata": {},
   "outputs": [
    {
     "name": "stdout",
     "output_type": "stream",
     "text": [
      "target train 0/1: 356/38\n"
     ]
    }
   ],
   "source": [
    "target = df_train['tsh_label']\n",
    "print ('target train 0/1: {}/{}'.format(\n",
    "    len(np.where(target == 0)[0]), len(np.where(target == 1)[0])))"
   ]
  },
  {
   "cell_type": "code",
   "execution_count": 13,
   "metadata": {},
   "outputs": [],
   "source": [
    "class_sample_count = np.array(\n",
    "    [len(np.where(target == t)[0]) for t in np.unique(target)])\n",
    "weight = 1. / class_sample_count\n",
    "samples_weight = np.array([weight[t] for t in target])"
   ]
  },
  {
   "cell_type": "code",
   "execution_count": 14,
   "metadata": {},
   "outputs": [],
   "source": [
    "samples_weight = torch.from_numpy(samples_weight)\n",
    "samples_weigth = samples_weight.double()\n",
    "sampler = WeightedRandomSampler(samples_weight, len(samples_weight))"
   ]
  },
  {
   "cell_type": "code",
   "execution_count": 15,
   "metadata": {},
   "outputs": [],
   "source": [
    "target = torch.from_numpy(np.array(target.to_list())).long()\n",
    "train_dataset = train_ds"
   ]
  },
  {
   "cell_type": "code",
   "execution_count": 16,
   "metadata": {},
   "outputs": [
    {
     "name": "stdout",
     "output_type": "stream",
     "text": [
      "batch index 0, 0/1: 32/0\n",
      "batch index 1, 0/1: 32/0\n",
      "batch index 2, 0/1: 32/0\n",
      "batch index 3, 0/1: 32/0\n",
      "batch index 4, 0/1: 24/8\n",
      "batch index 5, 0/1: 32/0\n",
      "batch index 6, 0/1: 32/0\n",
      "batch index 7, 0/1: 32/0\n",
      "batch index 8, 0/1: 32/0\n",
      "batch index 9, 0/1: 32/0\n",
      "batch index 10, 0/1: 12/20\n",
      "batch index 11, 0/1: 22/10\n",
      "batch index 12, 0/1: 10/0\n"
     ]
    }
   ],
   "source": [
    "train_loader = DataLoader(\n",
    "    train_dataset, batch_size=32, num_workers=1, sampler=sampler)\n",
    "\n",
    "for i, (data, target) in enumerate(train_loader):\n",
    "    print (\"batch index {}, 0/1: {}/{}\".format(\n",
    "        i,\n",
    "        len(np.where(target[0][0].numpy() == 0)[0]),\n",
    "        len(np.where(target[0][0].numpy() == 1)[0])))"
   ]
  },
  {
   "cell_type": "code",
   "execution_count": 160,
   "metadata": {},
   "outputs": [],
   "source": [
    "train_loader = DataLoader(\n",
    "    train_dataset, batch_size=32, num_workers=1, sampler=sampler)"
   ]
  },
  {
   "cell_type": "code",
   "execution_count": 161,
   "metadata": {},
   "outputs": [],
   "source": [
    "b = next(iter(train_loader))"
   ]
  },
  {
   "cell_type": "code",
   "execution_count": 162,
   "metadata": {},
   "outputs": [
    {
     "data": {
      "text/plain": [
       "torch.Size([32, 3, 128, 235])"
      ]
     },
     "execution_count": 162,
     "metadata": {},
     "output_type": "execute_result"
    }
   ],
   "source": [
    "b[0].shape"
   ]
  },
  {
   "cell_type": "code",
   "execution_count": null,
   "metadata": {},
   "outputs": [],
   "source": []
  },
  {
   "cell_type": "code",
   "execution_count": null,
   "metadata": {},
   "outputs": [],
   "source": []
  },
  {
   "cell_type": "code",
   "execution_count": null,
   "metadata": {},
   "outputs": [],
   "source": []
  },
  {
   "cell_type": "code",
   "execution_count": null,
   "metadata": {},
   "outputs": [],
   "source": []
  },
  {
   "cell_type": "code",
   "execution_count": null,
   "metadata": {},
   "outputs": [],
   "source": []
  },
  {
   "cell_type": "code",
   "execution_count": 21,
   "metadata": {},
   "outputs": [],
   "source": [
    "b = dls.one_batch()"
   ]
  },
  {
   "cell_type": "code",
   "execution_count": 22,
   "metadata": {},
   "outputs": [],
   "source": [
    "preds = model(b[0])"
   ]
  },
  {
   "cell_type": "code",
   "execution_count": 23,
   "metadata": {},
   "outputs": [
    {
     "data": {
      "text/plain": [
       "(torch.Size([32, 3, 128, 235]), 2)"
      ]
     },
     "execution_count": 23,
     "metadata": {},
     "output_type": "execute_result"
    }
   ],
   "source": [
    "b[0].shape,len(b[1])"
   ]
  },
  {
   "cell_type": "code",
   "execution_count": 25,
   "metadata": {},
   "outputs": [
    {
     "data": {
      "text/plain": [
       "tensor([[ 5.2339e-01,  2.6513e+00],\n",
       "        [-1.0611e+00, -5.5601e-01],\n",
       "        [-1.4252e-01,  6.1985e-01],\n",
       "        [-7.4188e-02,  1.3731e-01],\n",
       "        [ 2.2829e-01, -5.2692e-01],\n",
       "        [ 2.4270e-01, -1.2136e+00],\n",
       "        [ 8.4924e-01,  4.8941e-01],\n",
       "        [-7.3959e-02, -7.4454e-02],\n",
       "        [-1.9701e+00, -1.4676e-01],\n",
       "        [ 5.3781e-01,  1.1017e+00],\n",
       "        [-4.7584e-01, -7.6231e-01],\n",
       "        [ 9.5933e-02, -1.3598e-01],\n",
       "        [-1.9940e-01,  8.6583e-01],\n",
       "        [-7.3789e-01,  6.9476e-01],\n",
       "        [-7.6312e-01,  8.1662e-02],\n",
       "        [ 1.4507e+00,  1.0320e-01],\n",
       "        [-2.5671e-02, -4.6011e-01],\n",
       "        [-1.5554e-01, -5.8408e-01],\n",
       "        [ 3.5680e-02, -3.3201e-01],\n",
       "        [ 7.7637e-02, -1.7260e-01],\n",
       "        [-1.6720e-01, -4.6944e-01],\n",
       "        [-8.2701e-01, -1.5374e+00],\n",
       "        [ 1.4266e+00,  9.8722e-01],\n",
       "        [-2.4453e-01,  2.3863e-03],\n",
       "        [ 2.0077e-01, -6.7722e-01],\n",
       "        [-1.8362e+00, -2.7141e-01],\n",
       "        [-4.0803e-01,  2.0516e-01],\n",
       "        [ 4.9449e-01, -4.2275e-02],\n",
       "        [-1.3488e+00,  6.2203e-01],\n",
       "        [-5.7071e-01,  2.5738e-01],\n",
       "        [ 6.7198e-01,  3.5645e-01],\n",
       "        [ 8.6358e-01, -8.8094e-01]], device='cuda:0', grad_fn=<MmBackward>)"
      ]
     },
     "execution_count": 25,
     "metadata": {},
     "output_type": "execute_result"
    }
   ],
   "source": [
    "preds[0]"
   ]
  },
  {
   "cell_type": "code",
   "execution_count": 28,
   "metadata": {},
   "outputs": [
    {
     "data": {
      "text/plain": [
       "tensor([[1., 0.],\n",
       "        [1., 0.],\n",
       "        [1., 0.],\n",
       "        [1., 0.],\n",
       "        [1., 0.],\n",
       "        [1., 0.],\n",
       "        [1., 0.],\n",
       "        [1., 0.],\n",
       "        [1., 0.],\n",
       "        [1., 0.],\n",
       "        [1., 0.],\n",
       "        [1., 0.],\n",
       "        [1., 0.],\n",
       "        [1., 0.],\n",
       "        [1., 0.],\n",
       "        [1., 0.],\n",
       "        [1., 0.],\n",
       "        [1., 0.],\n",
       "        [1., 0.],\n",
       "        [1., 0.],\n",
       "        [1., 0.],\n",
       "        [1., 0.],\n",
       "        [1., 0.],\n",
       "        [1., 0.],\n",
       "        [1., 0.],\n",
       "        [1., 0.],\n",
       "        [1., 0.],\n",
       "        [1., 0.],\n",
       "        [1., 0.],\n",
       "        [1., 0.],\n",
       "        [1., 0.],\n",
       "        [1., 0.]], device='cuda:0')"
      ]
     },
     "execution_count": 28,
     "metadata": {},
     "output_type": "execute_result"
    }
   ],
   "source": [
    "b[1][0][0]"
   ]
  },
  {
   "cell_type": "code",
   "execution_count": 32,
   "metadata": {},
   "outputs": [
    {
     "data": {
      "text/plain": [
       "tensor(0.8608, device='cuda:0', grad_fn=<NllLossBackward>)"
      ]
     },
     "execution_count": 32,
     "metadata": {},
     "output_type": "execute_result"
    }
   ],
   "source": [
    "F.cross_entropy(preds[0],b[1][0][0].argmax(1).long(),reduction='mean')"
   ]
  },
  {
   "cell_type": "code",
   "execution_count": 31,
   "metadata": {},
   "outputs": [
    {
     "data": {
      "text/plain": [
       "tensor([0, 0, 0, 0, 0, 0, 0, 0, 0, 0, 0, 0, 0, 0, 0, 0, 0, 0, 0, 0, 0, 0, 0, 0,\n",
       "        0, 0, 0, 0, 0, 0, 0, 0], device='cuda:0')"
      ]
     },
     "execution_count": 31,
     "metadata": {},
     "output_type": "execute_result"
    }
   ],
   "source": [
    "b[1][0][0].argmax(1)"
   ]
  },
  {
   "cell_type": "code",
   "execution_count": null,
   "metadata": {},
   "outputs": [],
   "source": []
  }
 ],
 "metadata": {
  "kernelspec": {
   "display_name": "Python 3",
   "language": "python",
   "name": "python3"
  },
  "language_info": {
   "codemirror_mode": {
    "name": "ipython",
    "version": 3
   },
   "file_extension": ".py",
   "mimetype": "text/x-python",
   "name": "python",
   "nbconvert_exporter": "python",
   "pygments_lexer": "ipython3",
   "version": "3.7.8"
  }
 },
 "nbformat": 4,
 "nbformat_minor": 4
}
