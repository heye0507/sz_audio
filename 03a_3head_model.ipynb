{
 "cells": [
  {
   "cell_type": "code",
   "execution_count": 1,
   "metadata": {},
   "outputs": [],
   "source": [
    "from audio_dataset import MelSpectrogramDataset,denormalize\n",
    "\n",
    "from pathlib import Path\n",
    "\n",
    "import os\n",
    "\n",
    "import numpy as np\n",
    "import pandas as pd\n",
    "\n",
    "import librosa\n",
    "import librosa.display\n",
    "\n",
    "import matplotlib.pyplot as plt\n",
    "\n",
    "import torch\n",
    "import torch.nn.functional as F\n",
    "import torchvision.models as torch_models\n",
    "from torch import nn\n",
    "from torch.utils.data import DataLoader\n",
    "from torch.utils.data.sampler import SequentialSampler, RandomSampler\n",
    "\n",
    "import albumentations as A\n",
    "from albumentations.pytorch.transforms import ToTensorV2\n",
    "\n",
    "from fastai.vision.all import *"
   ]
  },
  {
   "cell_type": "code",
   "execution_count": 2,
   "metadata": {},
   "outputs": [],
   "source": [
    "root = '/home/heye0507/sz_audio'\n",
    "audio_data = root + '/audio_data'\n",
    "data = root + '/data'"
   ]
  },
  {
   "cell_type": "code",
   "execution_count": 3,
   "metadata": {},
   "outputs": [],
   "source": [
    "df_train = pd.read_csv(data+'/train.csv')\n",
    "df_valid = pd.read_csv(data+'/valid_test.csv')\n",
    "df_valid = df_valid[df_valid['valid']==True]"
   ]
  },
  {
   "cell_type": "code",
   "execution_count": 4,
   "metadata": {},
   "outputs": [],
   "source": [
    "def get_train_transform():\n",
    "    return A.Compose([\n",
    "        #A.HorizontalFlip(p=0.5),\n",
    "        #A.VerticalFlip(p=0.5),\n",
    "        #A.Resize(height=512,width=512,p=1.0),\n",
    "        A.Normalize(p=1.0),\n",
    "        ToTensorV2(p=1.0),\n",
    "    ],p=1.0)\n",
    "\n",
    "def get_valid_transform():\n",
    "    return A.Compose([\n",
    "        #A.Resize(height=512,width=512,p=1.0),\n",
    "        A.Normalize(p=1.0),\n",
    "        ToTensorV2(p=1.0),\n",
    "    ],p=1.0)"
   ]
  },
  {
   "cell_type": "code",
   "execution_count": 5,
   "metadata": {},
   "outputs": [],
   "source": [
    "train_ds = MelSpectrogramDataset(df_train,audio_data,img_tfms=get_train_transform())\n",
    "valid_ds = MelSpectrogramDataset(df_valid,audio_data,img_tfms=get_valid_transform())"
   ]
  },
  {
   "cell_type": "code",
   "execution_count": 7,
   "metadata": {},
   "outputs": [
    {
     "data": {
      "text/plain": [
       "(394, 149)"
      ]
     },
     "execution_count": 7,
     "metadata": {},
     "output_type": "execute_result"
    }
   ],
   "source": [
    "len(train_ds),len(valid_ds)"
   ]
  },
  {
   "cell_type": "code",
   "execution_count": 6,
   "metadata": {},
   "outputs": [],
   "source": [
    "#Mish - \"Mish: A Self Regularized Non-Monotonic Neural Activation Function\"\n",
    "#https://arxiv.org/abs/1908.08681v1\n",
    "#implemented for PyTorch / FastAI by lessw2020 \n",
    "#github: https://github.com/lessw2020/mish\n",
    "class Mish(nn.Module):\n",
    "    def __init__(self):\n",
    "        super().__init__()\n",
    "\n",
    "    def forward(self, x):\n",
    "        #inlining this saves 1 second per epoch (V100 GPU) vs having a temp x and then returning x(!)\n",
    "        return x * (torch.tanh(F.softplus(x)))"
   ]
  },
  {
   "cell_type": "code",
   "execution_count": 7,
   "metadata": {},
   "outputs": [],
   "source": [
    "class Model_Head(nn.Module):\n",
    "    def __init__(self,ni,nc,ps=0.25):\n",
    "        '''\n",
    "        ni : input filter size\n",
    "        nc : output class size\n",
    "        ps : dropout rate\n",
    "        '''\n",
    "        super().__init__()\n",
    "        layers = ([Mish(),ConvLayer(ni,ni,act_cls=None),AdaptiveConcatPool2d(),\n",
    "                   Flatten(), LinBnDrop(ni*2,512,p=ps,act=Mish()), \n",
    "                   LinBnDrop(512,nc,p=ps*2)])\n",
    "        self.head = nn.Sequential(*layers)\n",
    "    \n",
    "    def forward(self,xb):\n",
    "        return self.head(xb)\n",
    "    \n",
    "class Resnet_audio(nn.Module):\n",
    "    def __init__(self,arch,nc=[1,1,1],pretrained=True):\n",
    "        super().__init__()\n",
    "        self.body = nn.Sequential(*list(arch(pretrained=pretrained).children())[:-2])\n",
    "       \n",
    "        # change input filter size to 1\n",
    "#         nf,ni,h,w = self.body[0].weight.shape\n",
    "#         w = self.body[0].weight.sum(dim=1,keepdim=True)\n",
    "#         conv_input = conv2d(1,nf,ks=h)\n",
    "#         conv_input.weight.data = w\n",
    "#         self.body[0] = conv_input\n",
    "        \n",
    "        # multi-head output\n",
    "        # 1,1,1 regression head\n",
    "        ni = num_features_model(self.body)\n",
    "        self.head_tsh = Model_Head(ni,nc[0])\n",
    "        self.head_t3 = Model_Head(ni,nc[1])\n",
    "        self.head_t4 = Model_Head(ni,nc[2])\n",
    "    \n",
    "    def forward(self,x):\n",
    "        x = self.body(x)\n",
    "        return (self.head_tsh(x),self.head_t3(x),self.head_t4(x))\n",
    "    \n",
    "# replace all relu layer with Mish        \n",
    "def to_mish(model):\n",
    "    for name,child in model.named_children():\n",
    "        if isinstance(child,nn.ReLU):\n",
    "            setattr(model,name,Mish())\n",
    "        else:\n",
    "            to_mish(child)"
   ]
  },
  {
   "cell_type": "code",
   "execution_count": 31,
   "metadata": {},
   "outputs": [],
   "source": [
    "model = Resnet_audio(torch_models.resnet34).cuda()"
   ]
  },
  {
   "cell_type": "code",
   "execution_count": 32,
   "metadata": {},
   "outputs": [],
   "source": [
    "class Loss_multi_head(nn.Module):\n",
    "    def __init__(self,weights=[1,1,1]):\n",
    "        super().__init__()\n",
    "        self.weights = weights\n",
    "        \n",
    "    def forward(self,preds,target):\n",
    "        outp_tsh,outp_t3,outp_t4 = preds\n",
    "        outp_tsh,outp_t3,outp_t4 = outp_tsh.float(),outp_t3.float(),outp_t4.float()\n",
    "        targ_tsh,targ_t3,targ_t4 = target[0]\n",
    "        return (\n",
    "            self.weights[0] * F.mse_loss(outp_tsh.squeeze(),targ_tsh)\n",
    "            + self.weights[1] * F.mse_loss(outp_t3.squeeze(),targ_t3)\n",
    "            + self.weights[2] * F.mse_loss(outp_t4.squeeze(),targ_t4)\n",
    "        )\n",
    "        "
   ]
  },
  {
   "cell_type": "code",
   "execution_count": 10,
   "metadata": {},
   "outputs": [],
   "source": [
    "def audio_mse(inp,targ):\n",
    "    outp_tsh,outp_t3,outp_t4 = inp\n",
    "    outp_tsh,outp_t3,outp_t4 = outp_tsh.float(),outp_t3.float(),outp_t4.float()\n",
    "    targ_tsh,targ_t3,targ_t4 = targ[0]\n",
    "    return torch.sqrt(\n",
    "        F.mse_loss(outp_tsh.squeeze(),targ_tsh)\n",
    "        + F.mse_loss(outp_t3.squeeze(),targ_t3)\n",
    "        + F.mse_loss(outp_t4.squeeze(),targ_t4)\n",
    "    )"
   ]
  },
  {
   "cell_type": "code",
   "execution_count": 11,
   "metadata": {},
   "outputs": [],
   "source": [
    "loss_func = Loss_multi_head()"
   ]
  },
  {
   "cell_type": "code",
   "execution_count": 12,
   "metadata": {},
   "outputs": [],
   "source": [
    "# train_loader = torch.utils.data.DataLoader(\n",
    "#         train_ds,\n",
    "#         sampler=RandomSampler(train_ds),\n",
    "#         batch_size=32,\n",
    "#         pin_memory=False,\n",
    "#         drop_last=True,\n",
    "#         num_workers=4,\n",
    "#     )\n",
    "\n",
    "# val_loader = torch.utils.data.DataLoader(\n",
    "#         valid_ds, \n",
    "#         batch_size=32,\n",
    "#         num_workers=4,\n",
    "#         shuffle=False,\n",
    "#         sampler=SequentialSampler(valid_ds),\n",
    "#         pin_memory=False,\n",
    "#     )"
   ]
  },
  {
   "cell_type": "code",
   "execution_count": 12,
   "metadata": {},
   "outputs": [],
   "source": [
    "from fastai.data.core import DataLoaders"
   ]
  },
  {
   "cell_type": "code",
   "execution_count": 13,
   "metadata": {},
   "outputs": [],
   "source": [
    "tr_dl = DataLoader(train_ds,batch_size=32,num_workers=4)\n",
    "vl_dl = DataLoader(valid_ds,batch_size=32,num_workers=4)"
   ]
  },
  {
   "cell_type": "code",
   "execution_count": 14,
   "metadata": {},
   "outputs": [],
   "source": [
    "dls = DataLoaders(tr_dl,vl_dl,device='cuda')"
   ]
  },
  {
   "cell_type": "code",
   "execution_count": 23,
   "metadata": {},
   "outputs": [],
   "source": [
    "b = dls.one_batch()"
   ]
  },
  {
   "cell_type": "code",
   "execution_count": 24,
   "metadata": {},
   "outputs": [
    {
     "data": {
      "text/plain": [
       "(torch.Size([32, 3, 128, 235]), 2)"
      ]
     },
     "execution_count": 24,
     "metadata": {},
     "output_type": "execute_result"
    }
   ],
   "source": [
    "b[0].shape,len(b[1])"
   ]
  },
  {
   "cell_type": "code",
   "execution_count": 23,
   "metadata": {},
   "outputs": [],
   "source": [
    "preds = model(b[0])"
   ]
  },
  {
   "cell_type": "code",
   "execution_count": 24,
   "metadata": {},
   "outputs": [
    {
     "data": {
      "text/plain": [
       "tensor(153.1351, device='cuda:0', dtype=torch.float64, grad_fn=<AddBackward0>)"
      ]
     },
     "execution_count": 24,
     "metadata": {},
     "output_type": "execute_result"
    }
   ],
   "source": [
    "loss_func(preds,b[1])"
   ]
  },
  {
   "cell_type": "code",
   "execution_count": 25,
   "metadata": {},
   "outputs": [
    {
     "data": {
      "text/plain": [
       "tensor(12.3748, device='cuda:0', dtype=torch.float64, grad_fn=<SqrtBackward>)"
      ]
     },
     "execution_count": 25,
     "metadata": {},
     "output_type": "execute_result"
    }
   ],
   "source": [
    "audio_mse(preds,b[1])"
   ]
  },
  {
   "cell_type": "code",
   "execution_count": 33,
   "metadata": {},
   "outputs": [],
   "source": [
    "learn = Learner(dls,model,loss_func=loss_func,metrics=audio_mse)"
   ]
  },
  {
   "cell_type": "code",
   "execution_count": 17,
   "metadata": {},
   "outputs": [
    {
     "data": {
      "text/html": [],
      "text/plain": [
       "<IPython.core.display.HTML object>"
      ]
     },
     "metadata": {},
     "output_type": "display_data"
    },
    {
     "data": {
      "text/plain": [
       "SuggestedLRs(lr_min=0.014454397559165954, lr_steep=6.309573450380412e-07)"
      ]
     },
     "execution_count": 17,
     "metadata": {},
     "output_type": "execute_result"
    },
    {
     "data": {
      "image/png": "[encoded data removed]",
      "text/plain": [
       "<Figure size 432x288 with 1 Axes>"
      ]
     },
     "metadata": {
      "needs_background": "light"
     },
     "output_type": "display_data"
    }
   ],
   "source": [
    "learn.lr_find()"
   ]
  },
  {
   "cell_type": "code",
   "execution_count": 34,
   "metadata": {},
   "outputs": [
    {
     "data": {
      "text/html": [
       "<table border=\"1\" class=\"dataframe\">\n",
       "  <thead>\n",
       "    <tr style=\"text-align: left;\">\n",
       "      <th>epoch</th>\n",
       "      <th>train_loss</th>\n",
       "      <th>valid_loss</th>\n",
       "      <th>audio_mse</th>\n",
       "      <th>time</th>\n",
       "    </tr>\n",
       "  </thead>\n",
       "  <tbody>\n",
       "    <tr>\n",
       "      <td>0</td>\n",
       "      <td>196.707611</td>\n",
       "      <td>224.768646</td>\n",
       "      <td>14.897846</td>\n",
       "      <td>00:13</td>\n",
       "    </tr>\n",
       "    <tr>\n",
       "      <td>1</td>\n",
       "      <td>194.825470</td>\n",
       "      <td>211.777832</td>\n",
       "      <td>14.478728</td>\n",
       "      <td>00:12</td>\n",
       "    </tr>\n",
       "    <tr>\n",
       "      <td>2</td>\n",
       "      <td>191.511642</td>\n",
       "      <td>127.667473</td>\n",
       "      <td>11.212392</td>\n",
       "      <td>00:12</td>\n",
       "    </tr>\n",
       "    <tr>\n",
       "      <td>3</td>\n",
       "      <td>187.480972</td>\n",
       "      <td>627.709656</td>\n",
       "      <td>24.236097</td>\n",
       "      <td>00:13</td>\n",
       "    </tr>\n",
       "    <tr>\n",
       "      <td>4</td>\n",
       "      <td>180.142975</td>\n",
       "      <td>88.701973</td>\n",
       "      <td>9.344132</td>\n",
       "      <td>00:13</td>\n",
       "    </tr>\n",
       "    <tr>\n",
       "      <td>5</td>\n",
       "      <td>167.232697</td>\n",
       "      <td>291.259277</td>\n",
       "      <td>16.874552</td>\n",
       "      <td>00:13</td>\n",
       "    </tr>\n",
       "    <tr>\n",
       "      <td>6</td>\n",
       "      <td>145.154129</td>\n",
       "      <td>15945.119141</td>\n",
       "      <td>125.419998</td>\n",
       "      <td>00:12</td>\n",
       "    </tr>\n",
       "    <tr>\n",
       "      <td>7</td>\n",
       "      <td>123.090874</td>\n",
       "      <td>1361642.625000</td>\n",
       "      <td>1162.854736</td>\n",
       "      <td>00:13</td>\n",
       "    </tr>\n",
       "    <tr>\n",
       "      <td>8</td>\n",
       "      <td>104.532257</td>\n",
       "      <td>34.767616</td>\n",
       "      <td>5.650154</td>\n",
       "      <td>00:13</td>\n",
       "    </tr>\n",
       "    <tr>\n",
       "      <td>9</td>\n",
       "      <td>90.573509</td>\n",
       "      <td>123.390755</td>\n",
       "      <td>10.486389</td>\n",
       "      <td>00:13</td>\n",
       "    </tr>\n",
       "    <tr>\n",
       "      <td>10</td>\n",
       "      <td>81.021545</td>\n",
       "      <td>152.172089</td>\n",
       "      <td>11.831270</td>\n",
       "      <td>00:13</td>\n",
       "    </tr>\n",
       "    <tr>\n",
       "      <td>11</td>\n",
       "      <td>73.900429</td>\n",
       "      <td>161.856873</td>\n",
       "      <td>12.284428</td>\n",
       "      <td>00:13</td>\n",
       "    </tr>\n",
       "    <tr>\n",
       "      <td>12</td>\n",
       "      <td>68.110504</td>\n",
       "      <td>6624.607422</td>\n",
       "      <td>78.838982</td>\n",
       "      <td>00:13</td>\n",
       "    </tr>\n",
       "    <tr>\n",
       "      <td>13</td>\n",
       "      <td>64.046043</td>\n",
       "      <td>150.471466</td>\n",
       "      <td>11.666320</td>\n",
       "      <td>00:13</td>\n",
       "    </tr>\n",
       "    <tr>\n",
       "      <td>14</td>\n",
       "      <td>61.032246</td>\n",
       "      <td>30.637354</td>\n",
       "      <td>5.298368</td>\n",
       "      <td>00:13</td>\n",
       "    </tr>\n",
       "    <tr>\n",
       "      <td>15</td>\n",
       "      <td>59.336090</td>\n",
       "      <td>21.526184</td>\n",
       "      <td>4.275850</td>\n",
       "      <td>00:12</td>\n",
       "    </tr>\n",
       "    <tr>\n",
       "      <td>16</td>\n",
       "      <td>57.621864</td>\n",
       "      <td>21.751823</td>\n",
       "      <td>4.312118</td>\n",
       "      <td>00:13</td>\n",
       "    </tr>\n",
       "    <tr>\n",
       "      <td>17</td>\n",
       "      <td>56.143600</td>\n",
       "      <td>269.290985</td>\n",
       "      <td>16.165487</td>\n",
       "      <td>00:13</td>\n",
       "    </tr>\n",
       "    <tr>\n",
       "      <td>18</td>\n",
       "      <td>54.879089</td>\n",
       "      <td>147.641602</td>\n",
       "      <td>10.984504</td>\n",
       "      <td>00:13</td>\n",
       "    </tr>\n",
       "    <tr>\n",
       "      <td>19</td>\n",
       "      <td>54.673679</td>\n",
       "      <td>24.813490</td>\n",
       "      <td>4.696095</td>\n",
       "      <td>00:13</td>\n",
       "    </tr>\n",
       "    <tr>\n",
       "      <td>20</td>\n",
       "      <td>53.916351</td>\n",
       "      <td>26.816704</td>\n",
       "      <td>4.965686</td>\n",
       "      <td>00:13</td>\n",
       "    </tr>\n",
       "    <tr>\n",
       "      <td>21</td>\n",
       "      <td>53.058350</td>\n",
       "      <td>25.203426</td>\n",
       "      <td>4.654776</td>\n",
       "      <td>00:13</td>\n",
       "    </tr>\n",
       "    <tr>\n",
       "      <td>22</td>\n",
       "      <td>52.105289</td>\n",
       "      <td>30.128120</td>\n",
       "      <td>5.201938</td>\n",
       "      <td>00:13</td>\n",
       "    </tr>\n",
       "    <tr>\n",
       "      <td>23</td>\n",
       "      <td>51.915997</td>\n",
       "      <td>27.894102</td>\n",
       "      <td>5.077416</td>\n",
       "      <td>00:13</td>\n",
       "    </tr>\n",
       "    <tr>\n",
       "      <td>24</td>\n",
       "      <td>51.291416</td>\n",
       "      <td>36.574772</td>\n",
       "      <td>5.755408</td>\n",
       "      <td>00:13</td>\n",
       "    </tr>\n",
       "    <tr>\n",
       "      <td>25</td>\n",
       "      <td>50.750526</td>\n",
       "      <td>51.029762</td>\n",
       "      <td>6.894603</td>\n",
       "      <td>00:13</td>\n",
       "    </tr>\n",
       "    <tr>\n",
       "      <td>26</td>\n",
       "      <td>50.541645</td>\n",
       "      <td>46.807941</td>\n",
       "      <td>6.596002</td>\n",
       "      <td>00:13</td>\n",
       "    </tr>\n",
       "    <tr>\n",
       "      <td>27</td>\n",
       "      <td>50.195148</td>\n",
       "      <td>22.993393</td>\n",
       "      <td>4.516240</td>\n",
       "      <td>00:13</td>\n",
       "    </tr>\n",
       "    <tr>\n",
       "      <td>28</td>\n",
       "      <td>49.966942</td>\n",
       "      <td>22.838448</td>\n",
       "      <td>4.239725</td>\n",
       "      <td>00:13</td>\n",
       "    </tr>\n",
       "    <tr>\n",
       "      <td>29</td>\n",
       "      <td>49.119301</td>\n",
       "      <td>25.492531</td>\n",
       "      <td>4.667593</td>\n",
       "      <td>00:13</td>\n",
       "    </tr>\n",
       "    <tr>\n",
       "      <td>30</td>\n",
       "      <td>48.445347</td>\n",
       "      <td>39.669220</td>\n",
       "      <td>6.070408</td>\n",
       "      <td>00:13</td>\n",
       "    </tr>\n",
       "    <tr>\n",
       "      <td>31</td>\n",
       "      <td>48.826473</td>\n",
       "      <td>23.261131</td>\n",
       "      <td>4.443889</td>\n",
       "      <td>00:13</td>\n",
       "    </tr>\n",
       "    <tr>\n",
       "      <td>32</td>\n",
       "      <td>48.391628</td>\n",
       "      <td>23.301628</td>\n",
       "      <td>4.493629</td>\n",
       "      <td>00:13</td>\n",
       "    </tr>\n",
       "    <tr>\n",
       "      <td>33</td>\n",
       "      <td>47.761963</td>\n",
       "      <td>23.745705</td>\n",
       "      <td>4.549152</td>\n",
       "      <td>00:12</td>\n",
       "    </tr>\n",
       "    <tr>\n",
       "      <td>34</td>\n",
       "      <td>47.421738</td>\n",
       "      <td>24.670506</td>\n",
       "      <td>4.586971</td>\n",
       "      <td>00:13</td>\n",
       "    </tr>\n",
       "    <tr>\n",
       "      <td>35</td>\n",
       "      <td>46.692844</td>\n",
       "      <td>24.163788</td>\n",
       "      <td>4.581858</td>\n",
       "      <td>00:13</td>\n",
       "    </tr>\n",
       "    <tr>\n",
       "      <td>36</td>\n",
       "      <td>46.192749</td>\n",
       "      <td>23.630054</td>\n",
       "      <td>4.471597</td>\n",
       "      <td>00:13</td>\n",
       "    </tr>\n",
       "    <tr>\n",
       "      <td>37</td>\n",
       "      <td>45.632305</td>\n",
       "      <td>25.148203</td>\n",
       "      <td>4.582217</td>\n",
       "      <td>00:13</td>\n",
       "    </tr>\n",
       "    <tr>\n",
       "      <td>38</td>\n",
       "      <td>45.257439</td>\n",
       "      <td>24.735859</td>\n",
       "      <td>4.506285</td>\n",
       "      <td>00:12</td>\n",
       "    </tr>\n",
       "    <tr>\n",
       "      <td>39</td>\n",
       "      <td>44.412903</td>\n",
       "      <td>24.181648</td>\n",
       "      <td>4.493021</td>\n",
       "      <td>00:13</td>\n",
       "    </tr>\n",
       "    <tr>\n",
       "      <td>40</td>\n",
       "      <td>43.899406</td>\n",
       "      <td>25.371159</td>\n",
       "      <td>4.533802</td>\n",
       "      <td>00:13</td>\n",
       "    </tr>\n",
       "    <tr>\n",
       "      <td>41</td>\n",
       "      <td>43.567009</td>\n",
       "      <td>25.414404</td>\n",
       "      <td>4.537192</td>\n",
       "      <td>00:13</td>\n",
       "    </tr>\n",
       "    <tr>\n",
       "      <td>42</td>\n",
       "      <td>43.465172</td>\n",
       "      <td>26.578590</td>\n",
       "      <td>4.660732</td>\n",
       "      <td>00:13</td>\n",
       "    </tr>\n",
       "    <tr>\n",
       "      <td>43</td>\n",
       "      <td>42.960197</td>\n",
       "      <td>29.648270</td>\n",
       "      <td>4.884939</td>\n",
       "      <td>00:13</td>\n",
       "    </tr>\n",
       "    <tr>\n",
       "      <td>44</td>\n",
       "      <td>42.337788</td>\n",
       "      <td>30.272907</td>\n",
       "      <td>4.937922</td>\n",
       "      <td>00:13</td>\n",
       "    </tr>\n",
       "    <tr>\n",
       "      <td>45</td>\n",
       "      <td>42.033085</td>\n",
       "      <td>29.122450</td>\n",
       "      <td>4.855294</td>\n",
       "      <td>00:12</td>\n",
       "    </tr>\n",
       "    <tr>\n",
       "      <td>46</td>\n",
       "      <td>41.900234</td>\n",
       "      <td>27.863613</td>\n",
       "      <td>4.746114</td>\n",
       "      <td>00:12</td>\n",
       "    </tr>\n",
       "    <tr>\n",
       "      <td>47</td>\n",
       "      <td>41.493481</td>\n",
       "      <td>27.086370</td>\n",
       "      <td>4.708986</td>\n",
       "      <td>00:13</td>\n",
       "    </tr>\n",
       "    <tr>\n",
       "      <td>48</td>\n",
       "      <td>41.141293</td>\n",
       "      <td>26.198639</td>\n",
       "      <td>4.638247</td>\n",
       "      <td>00:13</td>\n",
       "    </tr>\n",
       "    <tr>\n",
       "      <td>49</td>\n",
       "      <td>40.991219</td>\n",
       "      <td>25.726048</td>\n",
       "      <td>4.602035</td>\n",
       "      <td>00:13</td>\n",
       "    </tr>\n",
       "  </tbody>\n",
       "</table>"
      ],
      "text/plain": [
       "<IPython.core.display.HTML object>"
      ]
     },
     "metadata": {},
     "output_type": "display_data"
    }
   ],
   "source": [
    "learn.fit_one_cycle(50,1e-2)"
   ]
  },
  {
   "cell_type": "code",
   "execution_count": 35,
   "metadata": {},
   "outputs": [],
   "source": [
    "x,y = dls[1].one_batch()"
   ]
  },
  {
   "cell_type": "code",
   "execution_count": 36,
   "metadata": {},
   "outputs": [],
   "source": [
    "preds = learn.model(x)"
   ]
  },
  {
   "cell_type": "code",
   "execution_count": 37,
   "metadata": {},
   "outputs": [],
   "source": [
    "tsh,t3,t4 = preds"
   ]
  },
  {
   "cell_type": "code",
   "execution_count": 44,
   "metadata": {},
   "outputs": [
    {
     "data": {
      "text/plain": [
       "(tensor([[1.2436],\n",
       "         [1.4181],\n",
       "         [1.9329],\n",
       "         [1.8494],\n",
       "         [1.4736],\n",
       "         [1.3429],\n",
       "         [1.4554],\n",
       "         [1.4837],\n",
       "         [1.8392],\n",
       "         [2.2062],\n",
       "         [1.9169],\n",
       "         [2.6842],\n",
       "         [1.4917],\n",
       "         [1.8472],\n",
       "         [1.3496],\n",
       "         [1.3458],\n",
       "         [1.3433],\n",
       "         [1.4934],\n",
       "         [1.4228],\n",
       "         [1.4836],\n",
       "         [1.3963],\n",
       "         [1.8837],\n",
       "         [1.8507],\n",
       "         [1.7814],\n",
       "         [2.1218],\n",
       "         [1.2829],\n",
       "         [1.5034],\n",
       "         [1.3984],\n",
       "         [1.3170],\n",
       "         [1.7331],\n",
       "         [1.7746],\n",
       "         [1.7291]], device='cuda:0', grad_fn=<MmBackward>),\n",
       " tensor([0.6700, 0.6700, 0.6700, 0.6700, 0.7000, 0.7000, 0.7000, 0.7000, 2.7600,\n",
       "         2.7600, 2.7600, 2.7600, 3.5000, 3.5000, 3.5000, 3.5000, 3.5000, 3.5000,\n",
       "         3.5000, 3.5000, 2.2900, 2.2900, 2.2900, 2.2900, 2.5200, 2.5200, 2.5200,\n",
       "         2.5200, 2.5200, 2.5200, 5.4300, 5.4300], device='cuda:0'))"
      ]
     },
     "execution_count": 44,
     "metadata": {},
     "output_type": "execute_result"
    }
   ],
   "source": [
    "tsh,y[0][0]"
   ]
  },
  {
   "cell_type": "code",
   "execution_count": 42,
   "metadata": {},
   "outputs": [
    {
     "data": {
      "text/plain": [
       "(tensor([[5.6574],\n",
       "         [5.4578],\n",
       "         [3.6344],\n",
       "         [5.2663],\n",
       "         [5.7792],\n",
       "         [5.5447],\n",
       "         [5.3717],\n",
       "         [5.3006],\n",
       "         [5.5660],\n",
       "         [5.1978],\n",
       "         [5.5927],\n",
       "         [4.9649],\n",
       "         [5.4404],\n",
       "         [5.1844],\n",
       "         [5.6030],\n",
       "         [5.8004],\n",
       "         [5.5914],\n",
       "         [5.2650],\n",
       "         [5.5925],\n",
       "         [5.4910],\n",
       "         [5.7831],\n",
       "         [5.4668],\n",
       "         [5.3051],\n",
       "         [5.2815],\n",
       "         [4.3280],\n",
       "         [5.9656],\n",
       "         [5.3520],\n",
       "         [5.2917],\n",
       "         [5.8189],\n",
       "         [4.8220],\n",
       "         [5.2299],\n",
       "         [5.2437]], device='cuda:0', grad_fn=<MmBackward>),\n",
       " tensor([2.7000, 2.7000, 2.7000, 2.7000, 5.5000, 5.5000, 5.5000, 5.5000, 4.5000,\n",
       "         4.5000, 4.5000, 4.5000, 2.4200, 2.4200, 2.4200, 2.4200, 2.4200, 2.4200,\n",
       "         2.4200, 2.4200, 4.6000, 4.6000, 4.6000, 4.6000, 3.0000, 3.0000, 3.0000,\n",
       "         3.0000, 3.0000, 3.0000, 4.3000, 4.3000], device='cuda:0'))"
      ]
     },
     "execution_count": 42,
     "metadata": {},
     "output_type": "execute_result"
    }
   ],
   "source": [
    "t3,y[0][1]"
   ]
  },
  {
   "cell_type": "code",
   "execution_count": 43,
   "metadata": {},
   "outputs": [
    {
     "data": {
      "text/plain": [
       "(tensor([[11.1727],\n",
       "         [ 9.4638],\n",
       "         [ 9.2179],\n",
       "         [11.7881],\n",
       "         [12.7514],\n",
       "         [ 9.3125],\n",
       "         [11.2075],\n",
       "         [12.1642],\n",
       "         [ 9.6350],\n",
       "         [ 9.1780],\n",
       "         [ 9.4949],\n",
       "         [ 9.0332],\n",
       "         [10.7885],\n",
       "         [11.4261],\n",
       "         [ 9.8955],\n",
       "         [12.0727],\n",
       "         [ 9.2565],\n",
       "         [10.6760],\n",
       "         [ 9.2917],\n",
       "         [ 9.7063],\n",
       "         [11.3590],\n",
       "         [10.3341],\n",
       "         [10.9415],\n",
       "         [10.2577],\n",
       "         [ 8.9215],\n",
       "         [14.0996],\n",
       "         [10.5595],\n",
       "         [ 8.1125],\n",
       "         [15.6838],\n",
       "         [11.1287],\n",
       "         [10.2361],\n",
       "         [10.1106]], device='cuda:0', grad_fn=<MmBackward>),\n",
       " tensor([13.7200, 13.7200, 13.7200, 13.7200, 11.9100, 11.9100, 11.9100, 11.9100,\n",
       "         11.2200, 11.2200, 11.2200, 11.2200, 10.2200, 10.2200, 10.2200, 10.2200,\n",
       "         10.2200, 10.2200, 10.2200, 10.2200, 13.1600, 13.1600, 13.1600, 13.1600,\n",
       "         15.4900, 15.4900, 15.4900, 15.4900, 15.4900, 15.4900,  7.8300,  7.8300],\n",
       "        device='cuda:0'))"
      ]
     },
     "execution_count": 43,
     "metadata": {},
     "output_type": "execute_result"
    }
   ],
   "source": [
    "t4,y[0][2]"
   ]
  },
  {
   "cell_type": "code",
   "execution_count": null,
   "metadata": {},
   "outputs": [],
   "source": []
  }
 ],
 "metadata": {
  "kernelspec": {
   "display_name": "Python 3",
   "language": "python",
   "name": "python3"
  },
  "language_info": {
   "codemirror_mode": {
    "name": "ipython",
    "version": 3
   },
   "file_extension": ".py",
   "mimetype": "text/x-python",
   "name": "python",
   "nbconvert_exporter": "python",
   "pygments_lexer": "ipython3",
   "version": "3.7.8"
  }
 },
 "nbformat": 4,
 "nbformat_minor": 4
}
