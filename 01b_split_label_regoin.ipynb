{
 "cells": [
  {
   "cell_type": "code",
   "execution_count": 1,
   "metadata": {},
   "outputs": [],
   "source": [
    "import pandas as pd\n",
    "import numpy as np\n",
    "from pathlib import Path"
   ]
  },
  {
   "cell_type": "code",
   "execution_count": 2,
   "metadata": {},
   "outputs": [],
   "source": [
    "root = '/home/heye0507/sz_audio'\n",
    "audio_data = root + '/audio_data'\n",
    "data = root + '/data'"
   ]
  },
  {
   "cell_type": "code",
   "execution_count": 33,
   "metadata": {},
   "outputs": [],
   "source": [
    "df_train = pd.read_csv(data+'/train.csv')\n",
    "df_valid = pd.read_csv(data+'/valid_test.csv')"
   ]
  },
  {
   "cell_type": "code",
   "execution_count": 4,
   "metadata": {},
   "outputs": [
    {
     "data": {
      "text/html": [
       "<div>\n",
       "<style scoped>\n",
       "    .dataframe tbody tr th:only-of-type {\n",
       "        vertical-align: middle;\n",
       "    }\n",
       "\n",
       "    .dataframe tbody tr th {\n",
       "        vertical-align: top;\n",
       "    }\n",
       "\n",
       "    .dataframe thead th {\n",
       "        text-align: right;\n",
       "    }\n",
       "</style>\n",
       "<table border=\"1\" class=\"dataframe\">\n",
       "  <thead>\n",
       "    <tr style=\"text-align: right;\">\n",
       "      <th></th>\n",
       "      <th>filename</th>\n",
       "      <th>orig_filename</th>\n",
       "      <th>id</th>\n",
       "      <th>name</th>\n",
       "      <th>eng_name</th>\n",
       "      <th>gender</th>\n",
       "      <th>cul</th>\n",
       "      <th>hometown</th>\n",
       "      <th>age</th>\n",
       "      <th>height</th>\n",
       "      <th>weight</th>\n",
       "      <th>temp</th>\n",
       "      <th>bpm</th>\n",
       "      <th>tsh</th>\n",
       "      <th>t4</th>\n",
       "      <th>t3</th>\n",
       "    </tr>\n",
       "  </thead>\n",
       "  <tbody>\n",
       "    <tr>\n",
       "      <th>0</th>\n",
       "      <td>train_0043.wav</td>\n",
       "      <td>524215/Ausculation_Report_Eko_Recording_140111...</td>\n",
       "      <td>524215</td>\n",
       "      <td>叶思思</td>\n",
       "      <td>Ye, Sisi</td>\n",
       "      <td>1=男</td>\n",
       "      <td>1=汉族</td>\n",
       "      <td>温州</td>\n",
       "      <td>35</td>\n",
       "      <td>164.0</td>\n",
       "      <td>64.0</td>\n",
       "      <td>36.5</td>\n",
       "      <td>80.0</td>\n",
       "      <td>1.12</td>\n",
       "      <td>8.32</td>\n",
       "      <td>4.6</td>\n",
       "    </tr>\n",
       "    <tr>\n",
       "      <th>1</th>\n",
       "      <td>train_0209.wav</td>\n",
       "      <td>524215/Ausculation_Report_Eko_Recording_140114...</td>\n",
       "      <td>524215</td>\n",
       "      <td>叶思思</td>\n",
       "      <td>Ye, Sisi</td>\n",
       "      <td>1=男</td>\n",
       "      <td>1=汉族</td>\n",
       "      <td>温州</td>\n",
       "      <td>35</td>\n",
       "      <td>164.0</td>\n",
       "      <td>64.0</td>\n",
       "      <td>36.5</td>\n",
       "      <td>80.0</td>\n",
       "      <td>1.12</td>\n",
       "      <td>8.32</td>\n",
       "      <td>4.6</td>\n",
       "    </tr>\n",
       "    <tr>\n",
       "      <th>2</th>\n",
       "      <td>train_0200.wav</td>\n",
       "      <td>524215/Ausculation_Report_Eko_Recording_140112...</td>\n",
       "      <td>524215</td>\n",
       "      <td>叶思思</td>\n",
       "      <td>Ye, Sisi</td>\n",
       "      <td>1=男</td>\n",
       "      <td>1=汉族</td>\n",
       "      <td>温州</td>\n",
       "      <td>35</td>\n",
       "      <td>164.0</td>\n",
       "      <td>64.0</td>\n",
       "      <td>36.5</td>\n",
       "      <td>80.0</td>\n",
       "      <td>1.12</td>\n",
       "      <td>8.32</td>\n",
       "      <td>4.6</td>\n",
       "    </tr>\n",
       "    <tr>\n",
       "      <th>3</th>\n",
       "      <td>train_0201.wav</td>\n",
       "      <td>524215/Ausculation_Report_Eko_Recording_140113...</td>\n",
       "      <td>524215</td>\n",
       "      <td>叶思思</td>\n",
       "      <td>Ye, Sisi</td>\n",
       "      <td>1=男</td>\n",
       "      <td>1=汉族</td>\n",
       "      <td>温州</td>\n",
       "      <td>35</td>\n",
       "      <td>164.0</td>\n",
       "      <td>64.0</td>\n",
       "      <td>36.5</td>\n",
       "      <td>80.0</td>\n",
       "      <td>1.12</td>\n",
       "      <td>8.32</td>\n",
       "      <td>4.6</td>\n",
       "    </tr>\n",
       "    <tr>\n",
       "      <th>4</th>\n",
       "      <td>train_0159.wav</td>\n",
       "      <td>615897/Ausculation_Report_Eko_Recording_141773...</td>\n",
       "      <td>615897</td>\n",
       "      <td>叶晓霞</td>\n",
       "      <td>Ye,Xiaoxia</td>\n",
       "      <td>2=女</td>\n",
       "      <td>1=汉族</td>\n",
       "      <td>永嘉</td>\n",
       "      <td>69</td>\n",
       "      <td>156.0</td>\n",
       "      <td>50.0</td>\n",
       "      <td>36.9</td>\n",
       "      <td>60.0</td>\n",
       "      <td>2.53</td>\n",
       "      <td>12.34</td>\n",
       "      <td>4.2</td>\n",
       "    </tr>\n",
       "  </tbody>\n",
       "</table>\n",
       "</div>"
      ],
      "text/plain": [
       "         filename                                      orig_filename      id  \\\n",
       "0  train_0043.wav  524215/Ausculation_Report_Eko_Recording_140111...  524215   \n",
       "1  train_0209.wav  524215/Ausculation_Report_Eko_Recording_140114...  524215   \n",
       "2  train_0200.wav  524215/Ausculation_Report_Eko_Recording_140112...  524215   \n",
       "3  train_0201.wav  524215/Ausculation_Report_Eko_Recording_140113...  524215   \n",
       "4  train_0159.wav  615897/Ausculation_Report_Eko_Recording_141773...  615897   \n",
       "\n",
       "  name    eng_name gender   cul hometown  age  height  weight  temp   bpm  \\\n",
       "0  叶思思    Ye, Sisi    1=男  1=汉族       温州   35   164.0    64.0  36.5  80.0   \n",
       "1  叶思思    Ye, Sisi    1=男  1=汉族       温州   35   164.0    64.0  36.5  80.0   \n",
       "2  叶思思    Ye, Sisi    1=男  1=汉族       温州   35   164.0    64.0  36.5  80.0   \n",
       "3  叶思思    Ye, Sisi    1=男  1=汉族       温州   35   164.0    64.0  36.5  80.0   \n",
       "4  叶晓霞  Ye,Xiaoxia    2=女  1=汉族       永嘉   69   156.0    50.0  36.9  60.0   \n",
       "\n",
       "    tsh     t4   t3  \n",
       "0  1.12   8.32  4.6  \n",
       "1  1.12   8.32  4.6  \n",
       "2  1.12   8.32  4.6  \n",
       "3  1.12   8.32  4.6  \n",
       "4  2.53  12.34  4.2  "
      ]
     },
     "execution_count": 4,
     "metadata": {},
     "output_type": "execute_result"
    }
   ],
   "source": [
    "df_train.head()"
   ]
  },
  {
   "cell_type": "code",
   "execution_count": 17,
   "metadata": {},
   "outputs": [],
   "source": [
    "s_tsh, s_t3, s_t4 = 1.5, 4.5, 11"
   ]
  },
  {
   "cell_type": "code",
   "execution_count": 6,
   "metadata": {},
   "outputs": [],
   "source": [
    "df_train['tsh_label'] = df_train['tsh'].apply(lambda o: 1 if o < s_tsh else 0)"
   ]
  },
  {
   "cell_type": "code",
   "execution_count": 7,
   "metadata": {},
   "outputs": [
    {
     "data": {
      "text/plain": [
       "1    236\n",
       "0    158\n",
       "Name: tsh_label, dtype: int64"
      ]
     },
     "execution_count": 7,
     "metadata": {},
     "output_type": "execute_result"
    }
   ],
   "source": [
    "df_train['tsh_label'].value_counts() # less than s_tsh confirm"
   ]
  },
  {
   "cell_type": "code",
   "execution_count": 9,
   "metadata": {},
   "outputs": [
    {
     "data": {
      "text/plain": [
       "<AxesSubplot:>"
      ]
     },
     "execution_count": 9,
     "metadata": {},
     "output_type": "execute_result"
    },
    {
     "data": {
      "image/png": "[encoded data removed]",
      "text/plain": [
       "<Figure size 432x288 with 1 Axes>"
      ]
     },
     "metadata": {
      "needs_background": "light"
     },
     "output_type": "display_data"
    }
   ],
   "source": [
    "df_train['tsh_label'].value_counts().plot(kind='bar')"
   ]
  },
  {
   "cell_type": "code",
   "execution_count": 18,
   "metadata": {},
   "outputs": [],
   "source": [
    "df_train['t3_label'] = df_train['t3'].apply(lambda o: 0 if o < s_t3 else 1) # greater than s_t3 confirm\n",
    "df_train['t4_label'] = df_train['t4'].apply(lambda o: 0 if o < s_t4 else 1) # greater than s_t4 confirm"
   ]
  },
  {
   "cell_type": "code",
   "execution_count": 19,
   "metadata": {},
   "outputs": [
    {
     "data": {
      "text/plain": [
       "0    199\n",
       "1    195\n",
       "Name: t3_label, dtype: int64"
      ]
     },
     "execution_count": 19,
     "metadata": {},
     "output_type": "execute_result"
    }
   ],
   "source": [
    "df_train['t3_label'].value_counts()"
   ]
  },
  {
   "cell_type": "code",
   "execution_count": 16,
   "metadata": {},
   "outputs": [
    {
     "data": {
      "text/plain": [
       "0    204\n",
       "1    190\n",
       "Name: t4_label, dtype: int64"
      ]
     },
     "execution_count": 16,
     "metadata": {},
     "output_type": "execute_result"
    }
   ],
   "source": [
    "df_train['t4_label'].value_counts()"
   ]
  },
  {
   "cell_type": "code",
   "execution_count": 27,
   "metadata": {},
   "outputs": [],
   "source": [
    "df_valid = df_valid[df_valid['valid']==True]"
   ]
  },
  {
   "cell_type": "code",
   "execution_count": 38,
   "metadata": {},
   "outputs": [],
   "source": [
    "df_valid['tsh_label'] = df_valid['tsh'].apply(lambda o: 1 if o < s_tsh else 0)\n",
    "df_valid['t3_label'] = df_valid['t3'].apply(lambda o: 0 if o < s_t3 else 1)\n",
    "df_valid['t4_label'] = df_valid['t4'].apply(lambda o: 0 if o < s_t4 else 1)"
   ]
  },
  {
   "cell_type": "code",
   "execution_count": 22,
   "metadata": {},
   "outputs": [],
   "source": [
    "train_mix = pd.concat([df_train,df_valid])"
   ]
  },
  {
   "cell_type": "code",
   "execution_count": 37,
   "metadata": {},
   "outputs": [
    {
     "data": {
      "text/html": [
       "<div>\n",
       "<style scoped>\n",
       "    .dataframe tbody tr th:only-of-type {\n",
       "        vertical-align: middle;\n",
       "    }\n",
       "\n",
       "    .dataframe tbody tr th {\n",
       "        vertical-align: top;\n",
       "    }\n",
       "\n",
       "    .dataframe thead th {\n",
       "        text-align: right;\n",
       "    }\n",
       "</style>\n",
       "<table border=\"1\" class=\"dataframe\">\n",
       "  <thead>\n",
       "    <tr style=\"text-align: right;\">\n",
       "      <th></th>\n",
       "      <th>filename</th>\n",
       "      <th>orig_filename</th>\n",
       "      <th>id</th>\n",
       "      <th>name</th>\n",
       "      <th>eng_name</th>\n",
       "      <th>gender</th>\n",
       "      <th>cul</th>\n",
       "      <th>hometown</th>\n",
       "      <th>age</th>\n",
       "      <th>height</th>\n",
       "      <th>weight</th>\n",
       "      <th>temp</th>\n",
       "      <th>bpm</th>\n",
       "      <th>tsh</th>\n",
       "      <th>t4</th>\n",
       "      <th>t3</th>\n",
       "      <th>tsh_label</th>\n",
       "      <th>t3_label</th>\n",
       "      <th>t4_label</th>\n",
       "      <th>valid</th>\n",
       "    </tr>\n",
       "  </thead>\n",
       "  <tbody>\n",
       "    <tr>\n",
       "      <th>275</th>\n",
       "      <td>devel_0018.wav</td>\n",
       "      <td>1432449/S Ausculation_Report_Eko_Recording_141...</td>\n",
       "      <td>1432449</td>\n",
       "      <td>周洪兵</td>\n",
       "      <td>Zhou, Hongbing</td>\n",
       "      <td>1=男</td>\n",
       "      <td>1=汉族</td>\n",
       "      <td>温州</td>\n",
       "      <td>52</td>\n",
       "      <td>170.0</td>\n",
       "      <td>80.0</td>\n",
       "      <td>72.0</td>\n",
       "      <td>36.7</td>\n",
       "      <td>0.63</td>\n",
       "      <td>4.5</td>\n",
       "      <td>9.59</td>\n",
       "      <td>1</td>\n",
       "      <td>1</td>\n",
       "      <td>0</td>\n",
       "      <td>True</td>\n",
       "    </tr>\n",
       "    <tr>\n",
       "      <th>276</th>\n",
       "      <td>devel_0067.wav</td>\n",
       "      <td>1432449/Ausculation_Report_Eko_Recording_14103...</td>\n",
       "      <td>1432449</td>\n",
       "      <td>周洪兵</td>\n",
       "      <td>Zhou, Hongbing</td>\n",
       "      <td>1=男</td>\n",
       "      <td>1=汉族</td>\n",
       "      <td>温州</td>\n",
       "      <td>52</td>\n",
       "      <td>170.0</td>\n",
       "      <td>80.0</td>\n",
       "      <td>72.0</td>\n",
       "      <td>36.7</td>\n",
       "      <td>0.63</td>\n",
       "      <td>4.5</td>\n",
       "      <td>9.59</td>\n",
       "      <td>1</td>\n",
       "      <td>1</td>\n",
       "      <td>0</td>\n",
       "      <td>True</td>\n",
       "    </tr>\n",
       "    <tr>\n",
       "      <th>277</th>\n",
       "      <td>devel_0066.wav</td>\n",
       "      <td>1432449/S Ausculation_Report_Eko_Recording_141...</td>\n",
       "      <td>1432449</td>\n",
       "      <td>周洪兵</td>\n",
       "      <td>Zhou, Hongbing</td>\n",
       "      <td>1=男</td>\n",
       "      <td>1=汉族</td>\n",
       "      <td>温州</td>\n",
       "      <td>52</td>\n",
       "      <td>170.0</td>\n",
       "      <td>80.0</td>\n",
       "      <td>72.0</td>\n",
       "      <td>36.7</td>\n",
       "      <td>0.63</td>\n",
       "      <td>4.5</td>\n",
       "      <td>9.59</td>\n",
       "      <td>1</td>\n",
       "      <td>1</td>\n",
       "      <td>0</td>\n",
       "      <td>True</td>\n",
       "    </tr>\n",
       "    <tr>\n",
       "      <th>278</th>\n",
       "      <td>devel_0068.wav</td>\n",
       "      <td>1432449/Ausculation_Report_Eko_Recording_14103...</td>\n",
       "      <td>1432449</td>\n",
       "      <td>周洪兵</td>\n",
       "      <td>Zhou, Hongbing</td>\n",
       "      <td>1=男</td>\n",
       "      <td>1=汉族</td>\n",
       "      <td>温州</td>\n",
       "      <td>52</td>\n",
       "      <td>170.0</td>\n",
       "      <td>80.0</td>\n",
       "      <td>72.0</td>\n",
       "      <td>36.7</td>\n",
       "      <td>0.63</td>\n",
       "      <td>4.5</td>\n",
       "      <td>9.59</td>\n",
       "      <td>1</td>\n",
       "      <td>1</td>\n",
       "      <td>0</td>\n",
       "      <td>True</td>\n",
       "    </tr>\n",
       "    <tr>\n",
       "      <th>279</th>\n",
       "      <td>devel_0037.wav</td>\n",
       "      <td>1432449/Ausculation_Report_Eko_Recording_14103...</td>\n",
       "      <td>1432449</td>\n",
       "      <td>周洪兵</td>\n",
       "      <td>Zhou, Hongbing</td>\n",
       "      <td>1=男</td>\n",
       "      <td>1=汉族</td>\n",
       "      <td>温州</td>\n",
       "      <td>52</td>\n",
       "      <td>170.0</td>\n",
       "      <td>80.0</td>\n",
       "      <td>72.0</td>\n",
       "      <td>36.7</td>\n",
       "      <td>0.63</td>\n",
       "      <td>4.5</td>\n",
       "      <td>9.59</td>\n",
       "      <td>1</td>\n",
       "      <td>1</td>\n",
       "      <td>0</td>\n",
       "      <td>True</td>\n",
       "    </tr>\n",
       "  </tbody>\n",
       "</table>\n",
       "</div>"
      ],
      "text/plain": [
       "           filename                                      orig_filename  \\\n",
       "275  devel_0018.wav  1432449/S Ausculation_Report_Eko_Recording_141...   \n",
       "276  devel_0067.wav  1432449/Ausculation_Report_Eko_Recording_14103...   \n",
       "277  devel_0066.wav  1432449/S Ausculation_Report_Eko_Recording_141...   \n",
       "278  devel_0068.wav  1432449/Ausculation_Report_Eko_Recording_14103...   \n",
       "279  devel_0037.wav  1432449/Ausculation_Report_Eko_Recording_14103...   \n",
       "\n",
       "          id name        eng_name gender   cul hometown  age  height  weight  \\\n",
       "275  1432449  周洪兵  Zhou, Hongbing    1=男  1=汉族       温州   52   170.0    80.0   \n",
       "276  1432449  周洪兵  Zhou, Hongbing    1=男  1=汉族       温州   52   170.0    80.0   \n",
       "277  1432449  周洪兵  Zhou, Hongbing    1=男  1=汉族       温州   52   170.0    80.0   \n",
       "278  1432449  周洪兵  Zhou, Hongbing    1=男  1=汉族       温州   52   170.0    80.0   \n",
       "279  1432449  周洪兵  Zhou, Hongbing    1=男  1=汉族       温州   52   170.0    80.0   \n",
       "\n",
       "     temp   bpm   tsh   t4    t3  tsh_label  t3_label  t4_label valid  \n",
       "275  72.0  36.7  0.63  4.5  9.59          1         1         0  True  \n",
       "276  72.0  36.7  0.63  4.5  9.59          1         1         0  True  \n",
       "277  72.0  36.7  0.63  4.5  9.59          1         1         0  True  \n",
       "278  72.0  36.7  0.63  4.5  9.59          1         1         0  True  \n",
       "279  72.0  36.7  0.63  4.5  9.59          1         1         0  True  "
      ]
     },
     "execution_count": 37,
     "metadata": {},
     "output_type": "execute_result"
    }
   ],
   "source": [
    "train_mix.tail()"
   ]
  },
  {
   "cell_type": "code",
   "execution_count": 34,
   "metadata": {},
   "outputs": [],
   "source": [
    "df_valid = df_valid[df_valid['valid']==False]"
   ]
  },
  {
   "cell_type": "code",
   "execution_count": 39,
   "metadata": {},
   "outputs": [
    {
     "data": {
      "text/plain": [
       "(131, 20)"
      ]
     },
     "execution_count": 39,
     "metadata": {},
     "output_type": "execute_result"
    }
   ],
   "source": [
    "df_valid.shape"
   ]
  },
  {
   "cell_type": "code",
   "execution_count": 41,
   "metadata": {},
   "outputs": [
    {
     "data": {
      "text/plain": [
       "1    67\n",
       "0    64\n",
       "Name: tsh_label, dtype: int64"
      ]
     },
     "execution_count": 41,
     "metadata": {},
     "output_type": "execute_result"
    }
   ],
   "source": [
    "df_valid['tsh_label'].value_counts()"
   ]
  },
  {
   "cell_type": "code",
   "execution_count": 42,
   "metadata": {},
   "outputs": [],
   "source": [
    "train_mix.to_csv(data+'/train_valid_mix.csv',index=False)\n",
    "df_valid.to_csv(data+'/new_test.csv',index=False)"
   ]
  },
  {
   "cell_type": "code",
   "execution_count": 32,
   "metadata": {},
   "outputs": [
    {
     "data": {
      "text/plain": [
       "0    145\n",
       "1      4\n",
       "Name: tsh_label, dtype: int64"
      ]
     },
     "execution_count": 32,
     "metadata": {},
     "output_type": "execute_result"
    }
   ],
   "source": [
    "df_valid['tsh_label'].value_counts()"
   ]
  },
  {
   "cell_type": "code",
   "execution_count": 33,
   "metadata": {},
   "outputs": [
    {
     "data": {
      "text/plain": [
       "0    126\n",
       "1     23\n",
       "Name: t3_label, dtype: int64"
      ]
     },
     "execution_count": 33,
     "metadata": {},
     "output_type": "execute_result"
    }
   ],
   "source": [
    "df_valid['t3_label'].value_counts()"
   ]
  },
  {
   "cell_type": "code",
   "execution_count": 34,
   "metadata": {},
   "outputs": [
    {
     "data": {
      "text/plain": [
       "0    141\n",
       "1      8\n",
       "Name: t4_label, dtype: int64"
      ]
     },
     "execution_count": 34,
     "metadata": {},
     "output_type": "execute_result"
    }
   ],
   "source": [
    "df_valid['t4_label'].value_counts()"
   ]
  },
  {
   "cell_type": "code",
   "execution_count": 21,
   "metadata": {},
   "outputs": [
    {
     "data": {
      "text/plain": [
       "0.6700507614213198"
      ]
     },
     "execution_count": 21,
     "metadata": {},
     "output_type": "execute_result"
    }
   ],
   "source": [
    "264 / (264+130)"
   ]
  },
  {
   "cell_type": "code",
   "execution_count": 22,
   "metadata": {},
   "outputs": [
    {
     "data": {
      "text/plain": [
       "0.5570469798657718"
      ]
     },
     "execution_count": 22,
     "metadata": {},
     "output_type": "execute_result"
    }
   ],
   "source": [
    "83 / (83+66)"
   ]
  },
  {
   "cell_type": "code",
   "execution_count": 23,
   "metadata": {},
   "outputs": [
    {
     "data": {
      "text/plain": [
       "0.9846938775510204"
      ]
     },
     "execution_count": 23,
     "metadata": {},
     "output_type": "execute_result"
    }
   ],
   "source": [
    "386 / (386+6)"
   ]
  },
  {
   "cell_type": "code",
   "execution_count": 24,
   "metadata": {},
   "outputs": [
    {
     "data": {
      "text/plain": [
       "0.8523489932885906"
      ]
     },
     "execution_count": 24,
     "metadata": {},
     "output_type": "execute_result"
    }
   ],
   "source": [
    "127 / (127+22)"
   ]
  },
  {
   "cell_type": "markdown",
   "metadata": {},
   "source": [
    "# 0.27, 6.8, 22"
   ]
  },
  {
   "cell_type": "code",
   "execution_count": null,
   "metadata": {},
   "outputs": [],
   "source": []
  }
 ],
 "metadata": {
  "kernelspec": {
   "display_name": "Python 3",
   "language": "python",
   "name": "python3"
  },
  "language_info": {
   "codemirror_mode": {
    "name": "ipython",
    "version": 3
   },
   "file_extension": ".py",
   "mimetype": "text/x-python",
   "name": "python",
   "nbconvert_exporter": "python",
   "pygments_lexer": "ipython3",
   "version": "3.7.8"
  }
 },
 "nbformat": 4,
 "nbformat_minor": 4
}
