{
 "cells": [
  {
   "cell_type": "code",
   "execution_count": 1,
   "metadata": {},
   "outputs": [],
   "source": [
    "import pandas as pd\n",
    "import numpy as np"
   ]
  },
  {
   "cell_type": "code",
   "execution_count": 2,
   "metadata": {},
   "outputs": [],
   "source": [
    "from pathlib import Path"
   ]
  },
  {
   "cell_type": "code",
   "execution_count": 3,
   "metadata": {},
   "outputs": [
    {
     "name": "stdout",
     "output_type": "stream",
     "text": [
      "/Users/haohe/Desktop/Heart_shenzhen\r\n"
     ]
    }
   ],
   "source": [
    "!pwd"
   ]
  },
  {
   "cell_type": "code",
   "execution_count": 4,
   "metadata": {},
   "outputs": [],
   "source": [
    "root = '/Users/haohe/Desktop/Heart_shenzhen'\n",
    "audio_data = root + '/audio'\n",
    "data = root + '/data'"
   ]
  },
  {
   "cell_type": "code",
   "execution_count": 5,
   "metadata": {},
   "outputs": [],
   "source": [
    "df = pd.read_excel(data+'/train_mapping.xlsx')"
   ]
  },
  {
   "cell_type": "markdown",
   "metadata": {},
   "source": [
    "# Process valid_test"
   ]
  },
  {
   "cell_type": "code",
   "execution_count": 9,
   "metadata": {},
   "outputs": [
    {
     "data": {
      "text/html": [
       "<div>\n",
       "<style scoped>\n",
       "    .dataframe tbody tr th:only-of-type {\n",
       "        vertical-align: middle;\n",
       "    }\n",
       "\n",
       "    .dataframe tbody tr th {\n",
       "        vertical-align: top;\n",
       "    }\n",
       "\n",
       "    .dataframe thead th {\n",
       "        text-align: right;\n",
       "    }\n",
       "</style>\n",
       "<table border=\"1\" class=\"dataframe\">\n",
       "  <thead>\n",
       "    <tr style=\"text-align: right;\">\n",
       "      <th></th>\n",
       "      <th>ComParE2018_Heartbeat.confidential</th>\n",
       "      <th>Unnamed: 1</th>\n",
       "    </tr>\n",
       "  </thead>\n",
       "  <tbody>\n",
       "    <tr>\n",
       "      <th>0</th>\n",
       "      <td>file_name</td>\n",
       "      <td>orig_file_name</td>\n",
       "    </tr>\n",
       "    <tr>\n",
       "      <th>1</th>\n",
       "      <td>devel_0001.wav</td>\n",
       "      <td>1422900/Ausculation_Report_Eko_Recording_13168...</td>\n",
       "    </tr>\n",
       "    <tr>\n",
       "      <th>2</th>\n",
       "      <td>devel_0002.wav</td>\n",
       "      <td>1423640/Ausculation_Report_Eko_Recording_13169...</td>\n",
       "    </tr>\n",
       "    <tr>\n",
       "      <th>3</th>\n",
       "      <td>devel_0003.wav</td>\n",
       "      <td>633418/Ausculation_Report_Eko_Recording_133855...</td>\n",
       "    </tr>\n",
       "    <tr>\n",
       "      <th>4</th>\n",
       "      <td>devel_0004.wav</td>\n",
       "      <td>1196812/Ausculation_Report_Eko_Recording_14173...</td>\n",
       "    </tr>\n",
       "  </tbody>\n",
       "</table>\n",
       "</div>"
      ],
      "text/plain": [
       "  ComParE2018_Heartbeat.confidential  \\\n",
       "0                          file_name   \n",
       "1                     devel_0001.wav   \n",
       "2                     devel_0002.wav   \n",
       "3                     devel_0003.wav   \n",
       "4                     devel_0004.wav   \n",
       "\n",
       "                                          Unnamed: 1  \n",
       "0                                     orig_file_name  \n",
       "1  1422900/Ausculation_Report_Eko_Recording_13168...  \n",
       "2  1423640/Ausculation_Report_Eko_Recording_13169...  \n",
       "3  633418/Ausculation_Report_Eko_Recording_133855...  \n",
       "4  1196812/Ausculation_Report_Eko_Recording_14173...  "
      ]
     },
     "execution_count": 9,
     "metadata": {},
     "output_type": "execute_result"
    }
   ],
   "source": [
    "df_valid_test = pd.read_excel(data+'/valid_test_mapping.xlsx')\n",
    "df_valid_test.head()"
   ]
  },
  {
   "cell_type": "code",
   "execution_count": 10,
   "metadata": {},
   "outputs": [],
   "source": [
    "df_valid_test = df_valid_test.rename(columns={\n",
    "    'ComParE2018_Heartbeat.confidential': 'filename',\n",
    "    'Unnamed: 1': 'orig_filename'\n",
    "})"
   ]
  },
  {
   "cell_type": "code",
   "execution_count": 13,
   "metadata": {},
   "outputs": [
    {
     "data": {
      "text/html": [
       "<div>\n",
       "<style scoped>\n",
       "    .dataframe tbody tr th:only-of-type {\n",
       "        vertical-align: middle;\n",
       "    }\n",
       "\n",
       "    .dataframe tbody tr th {\n",
       "        vertical-align: top;\n",
       "    }\n",
       "\n",
       "    .dataframe thead th {\n",
       "        text-align: right;\n",
       "    }\n",
       "</style>\n",
       "<table border=\"1\" class=\"dataframe\">\n",
       "  <thead>\n",
       "    <tr style=\"text-align: right;\">\n",
       "      <th></th>\n",
       "      <th>filename</th>\n",
       "      <th>orig_filename</th>\n",
       "    </tr>\n",
       "  </thead>\n",
       "  <tbody>\n",
       "    <tr>\n",
       "      <th>1</th>\n",
       "      <td>devel_0001.wav</td>\n",
       "      <td>1422900/Ausculation_Report_Eko_Recording_13168...</td>\n",
       "    </tr>\n",
       "    <tr>\n",
       "      <th>2</th>\n",
       "      <td>devel_0002.wav</td>\n",
       "      <td>1423640/Ausculation_Report_Eko_Recording_13169...</td>\n",
       "    </tr>\n",
       "    <tr>\n",
       "      <th>3</th>\n",
       "      <td>devel_0003.wav</td>\n",
       "      <td>633418/Ausculation_Report_Eko_Recording_133855...</td>\n",
       "    </tr>\n",
       "    <tr>\n",
       "      <th>4</th>\n",
       "      <td>devel_0004.wav</td>\n",
       "      <td>1196812/Ausculation_Report_Eko_Recording_14173...</td>\n",
       "    </tr>\n",
       "    <tr>\n",
       "      <th>5</th>\n",
       "      <td>devel_0005.wav</td>\n",
       "      <td>1109541/Ausculation_Report_Eko_Recording_13871...</td>\n",
       "    </tr>\n",
       "  </tbody>\n",
       "</table>\n",
       "</div>"
      ],
      "text/plain": [
       "         filename                                      orig_filename\n",
       "1  devel_0001.wav  1422900/Ausculation_Report_Eko_Recording_13168...\n",
       "2  devel_0002.wav  1423640/Ausculation_Report_Eko_Recording_13169...\n",
       "3  devel_0003.wav  633418/Ausculation_Report_Eko_Recording_133855...\n",
       "4  devel_0004.wav  1196812/Ausculation_Report_Eko_Recording_14173...\n",
       "5  devel_0005.wav  1109541/Ausculation_Report_Eko_Recording_13871..."
      ]
     },
     "execution_count": 13,
     "metadata": {},
     "output_type": "execute_result"
    }
   ],
   "source": [
    "df_valid_test = df_valid_test.iloc[1:,:]\n",
    "df_valid_test.head()"
   ]
  },
  {
   "cell_type": "code",
   "execution_count": null,
   "metadata": {},
   "outputs": [],
   "source": []
  },
  {
   "cell_type": "code",
   "execution_count": null,
   "metadata": {},
   "outputs": [],
   "source": []
  },
  {
   "cell_type": "code",
   "execution_count": null,
   "metadata": {},
   "outputs": [],
   "source": []
  },
  {
   "cell_type": "code",
   "execution_count": null,
   "metadata": {},
   "outputs": [],
   "source": []
  },
  {
   "cell_type": "code",
   "execution_count": 7,
   "metadata": {},
   "outputs": [],
   "source": [
    "filename = df.iloc[1:,0].tolist()"
   ]
  },
  {
   "cell_type": "code",
   "execution_count": 12,
   "metadata": {},
   "outputs": [
    {
     "data": {
      "text/plain": [
       "['train_0001.wav',\n",
       " 'train_0002.wav',\n",
       " 'train_0003.wav',\n",
       " 'train_0004.wav',\n",
       " 'train_0005.wav',\n",
       " 'train_0006.wav',\n",
       " 'train_0007.wav',\n",
       " 'train_0008.wav',\n",
       " 'train_0009.wav',\n",
       " 'train_0010.wav']"
      ]
     },
     "execution_count": 12,
     "metadata": {},
     "output_type": "execute_result"
    }
   ],
   "source": [
    "filename[0:10]"
   ]
  },
  {
   "cell_type": "code",
   "execution_count": 8,
   "metadata": {},
   "outputs": [],
   "source": [
    "orig_filename = df.iloc[1:,1].tolist()"
   ]
  },
  {
   "cell_type": "code",
   "execution_count": 13,
   "metadata": {},
   "outputs": [],
   "source": [
    "df_raw = pd.DataFrame(list(zip(filename,orig_filename)),columns=['filename','orig_filename'])"
   ]
  },
  {
   "cell_type": "code",
   "execution_count": 14,
   "metadata": {},
   "outputs": [
    {
     "data": {
      "text/html": [
       "<div>\n",
       "<style scoped>\n",
       "    .dataframe tbody tr th:only-of-type {\n",
       "        vertical-align: middle;\n",
       "    }\n",
       "\n",
       "    .dataframe tbody tr th {\n",
       "        vertical-align: top;\n",
       "    }\n",
       "\n",
       "    .dataframe thead th {\n",
       "        text-align: right;\n",
       "    }\n",
       "</style>\n",
       "<table border=\"1\" class=\"dataframe\">\n",
       "  <thead>\n",
       "    <tr style=\"text-align: right;\">\n",
       "      <th></th>\n",
       "      <th>filename</th>\n",
       "      <th>orig_filename</th>\n",
       "    </tr>\n",
       "  </thead>\n",
       "  <tbody>\n",
       "    <tr>\n",
       "      <th>0</th>\n",
       "      <td>train_0001.wav</td>\n",
       "      <td>1428734/Ausculation_Report_Eko_Recording_13641...</td>\n",
       "    </tr>\n",
       "    <tr>\n",
       "      <th>1</th>\n",
       "      <td>train_0002.wav</td>\n",
       "      <td>1430457/Ausculation_Report_Eko_Recording_14172...</td>\n",
       "    </tr>\n",
       "    <tr>\n",
       "      <th>2</th>\n",
       "      <td>train_0003.wav</td>\n",
       "      <td>1426832/Ausculation_Report_Eko_Recording_13592...</td>\n",
       "    </tr>\n",
       "    <tr>\n",
       "      <th>3</th>\n",
       "      <td>train_0004.wav</td>\n",
       "      <td>1427474/Ausculation_Report_Eko_Recording_13644...</td>\n",
       "    </tr>\n",
       "    <tr>\n",
       "      <th>4</th>\n",
       "      <td>train_0005.wav</td>\n",
       "      <td>648358/Ausculation_Report_Eko_Recording_136362...</td>\n",
       "    </tr>\n",
       "  </tbody>\n",
       "</table>\n",
       "</div>"
      ],
      "text/plain": [
       "         filename                                      orig_filename\n",
       "0  train_0001.wav  1428734/Ausculation_Report_Eko_Recording_13641...\n",
       "1  train_0002.wav  1430457/Ausculation_Report_Eko_Recording_14172...\n",
       "2  train_0003.wav  1426832/Ausculation_Report_Eko_Recording_13592...\n",
       "3  train_0004.wav  1427474/Ausculation_Report_Eko_Recording_13644...\n",
       "4  train_0005.wav  648358/Ausculation_Report_Eko_Recording_136362..."
      ]
     },
     "execution_count": 14,
     "metadata": {},
     "output_type": "execute_result"
    }
   ],
   "source": [
    "df_raw.head()"
   ]
  },
  {
   "cell_type": "code",
   "execution_count": 19,
   "metadata": {},
   "outputs": [
    {
     "data": {
      "text/plain": [
       "'1428734'"
      ]
     },
     "execution_count": 19,
     "metadata": {},
     "output_type": "execute_result"
    }
   ],
   "source": [
    "df_raw['orig_filename'][0].split('/')[0]"
   ]
  },
  {
   "cell_type": "code",
   "execution_count": 81,
   "metadata": {},
   "outputs": [],
   "source": [
    "df_raw['id'] = df_raw['orig_filename'].apply(lambda o: int(o.split('/')[0]))"
   ]
  },
  {
   "cell_type": "code",
   "execution_count": 82,
   "metadata": {},
   "outputs": [],
   "source": [
    "df_raw = df_raw.sort_values('id')"
   ]
  },
  {
   "cell_type": "code",
   "execution_count": 83,
   "metadata": {},
   "outputs": [
    {
     "data": {
      "text/html": [
       "<div>\n",
       "<style scoped>\n",
       "    .dataframe tbody tr th:only-of-type {\n",
       "        vertical-align: middle;\n",
       "    }\n",
       "\n",
       "    .dataframe tbody tr th {\n",
       "        vertical-align: top;\n",
       "    }\n",
       "\n",
       "    .dataframe thead th {\n",
       "        text-align: right;\n",
       "    }\n",
       "</style>\n",
       "<table border=\"1\" class=\"dataframe\">\n",
       "  <thead>\n",
       "    <tr style=\"text-align: right;\">\n",
       "      <th></th>\n",
       "      <th>filename</th>\n",
       "      <th>orig_filename</th>\n",
       "      <th>id</th>\n",
       "    </tr>\n",
       "  </thead>\n",
       "  <tbody>\n",
       "    <tr>\n",
       "      <th>42</th>\n",
       "      <td>train_0043.wav</td>\n",
       "      <td>524215/Ausculation_Report_Eko_Recording_140111...</td>\n",
       "      <td>524215</td>\n",
       "    </tr>\n",
       "    <tr>\n",
       "      <th>208</th>\n",
       "      <td>train_0209.wav</td>\n",
       "      <td>524215/Ausculation_Report_Eko_Recording_140114...</td>\n",
       "      <td>524215</td>\n",
       "    </tr>\n",
       "    <tr>\n",
       "      <th>199</th>\n",
       "      <td>train_0200.wav</td>\n",
       "      <td>524215/Ausculation_Report_Eko_Recording_140112...</td>\n",
       "      <td>524215</td>\n",
       "    </tr>\n",
       "    <tr>\n",
       "      <th>200</th>\n",
       "      <td>train_0201.wav</td>\n",
       "      <td>524215/Ausculation_Report_Eko_Recording_140113...</td>\n",
       "      <td>524215</td>\n",
       "    </tr>\n",
       "    <tr>\n",
       "      <th>158</th>\n",
       "      <td>train_0159.wav</td>\n",
       "      <td>615897/Ausculation_Report_Eko_Recording_141773...</td>\n",
       "      <td>615897</td>\n",
       "    </tr>\n",
       "    <tr>\n",
       "      <th>56</th>\n",
       "      <td>train_0057.wav</td>\n",
       "      <td>615897/Ausculation_Report_Eko_Recording_141775...</td>\n",
       "      <td>615897</td>\n",
       "    </tr>\n",
       "    <tr>\n",
       "      <th>288</th>\n",
       "      <td>train_0289.wav</td>\n",
       "      <td>615897/Ausculation_Report_Eko_Recording_141774...</td>\n",
       "      <td>615897</td>\n",
       "    </tr>\n",
       "    <tr>\n",
       "      <th>57</th>\n",
       "      <td>train_0058.wav</td>\n",
       "      <td>615897/Ausculation_Report_Eko_Recording_141776...</td>\n",
       "      <td>615897</td>\n",
       "    </tr>\n",
       "    <tr>\n",
       "      <th>10</th>\n",
       "      <td>train_0011.wav</td>\n",
       "      <td>648358/Ausculation_Report_Eko_Recording_136364...</td>\n",
       "      <td>648358</td>\n",
       "    </tr>\n",
       "    <tr>\n",
       "      <th>111</th>\n",
       "      <td>train_0112.wav</td>\n",
       "      <td>648358/Ausculation_Report_Eko_Recording_136365...</td>\n",
       "      <td>648358</td>\n",
       "    </tr>\n",
       "  </tbody>\n",
       "</table>\n",
       "</div>"
      ],
      "text/plain": [
       "           filename                                      orig_filename      id\n",
       "42   train_0043.wav  524215/Ausculation_Report_Eko_Recording_140111...  524215\n",
       "208  train_0209.wav  524215/Ausculation_Report_Eko_Recording_140114...  524215\n",
       "199  train_0200.wav  524215/Ausculation_Report_Eko_Recording_140112...  524215\n",
       "200  train_0201.wav  524215/Ausculation_Report_Eko_Recording_140113...  524215\n",
       "158  train_0159.wav  615897/Ausculation_Report_Eko_Recording_141773...  615897\n",
       "56   train_0057.wav  615897/Ausculation_Report_Eko_Recording_141775...  615897\n",
       "288  train_0289.wav  615897/Ausculation_Report_Eko_Recording_141774...  615897\n",
       "57   train_0058.wav  615897/Ausculation_Report_Eko_Recording_141776...  615897\n",
       "10   train_0011.wav  648358/Ausculation_Report_Eko_Recording_136364...  648358\n",
       "111  train_0112.wav  648358/Ausculation_Report_Eko_Recording_136365...  648358"
      ]
     },
     "execution_count": 83,
     "metadata": {},
     "output_type": "execute_result"
    }
   ],
   "source": [
    "df_raw.head(n=10)"
   ]
  },
  {
   "cell_type": "code",
   "execution_count": 45,
   "metadata": {},
   "outputs": [
    {
     "data": {
      "text/html": [
       "<div>\n",
       "<style scoped>\n",
       "    .dataframe tbody tr th:only-of-type {\n",
       "        vertical-align: middle;\n",
       "    }\n",
       "\n",
       "    .dataframe tbody tr th {\n",
       "        vertical-align: top;\n",
       "    }\n",
       "\n",
       "    .dataframe thead th {\n",
       "        text-align: right;\n",
       "    }\n",
       "</style>\n",
       "<table border=\"1\" class=\"dataframe\">\n",
       "  <thead>\n",
       "    <tr style=\"text-align: right;\">\n",
       "      <th></th>\n",
       "      <th>Unnamed: 0</th>\n",
       "      <th>Unnamed: 1</th>\n",
       "      <th>Unnamed: 2</th>\n",
       "      <th>Unnamed: 3</th>\n",
       "      <th>Unnamed: 4</th>\n",
       "      <th>Unnamed: 5</th>\n",
       "      <th>Unnamed: 6</th>\n",
       "      <th>Unnamed: 7</th>\n",
       "      <th>Unnamed: 8</th>\n",
       "      <th>Unnamed: 9</th>\n",
       "      <th>Unnamed: 10</th>\n",
       "      <th>Unnamed: 11</th>\n",
       "      <th>Unnamed: 12</th>\n",
       "      <th>Unnamed: 13</th>\n",
       "    </tr>\n",
       "  </thead>\n",
       "  <tbody>\n",
       "    <tr>\n",
       "      <th>0</th>\n",
       "      <td>住院号/门诊号</td>\n",
       "      <td>姓名</td>\n",
       "      <td>英文姓名</td>\n",
       "      <td>性别</td>\n",
       "      <td>民族</td>\n",
       "      <td>籍贯</td>\n",
       "      <td>年龄（岁）</td>\n",
       "      <td>身高（cm）</td>\n",
       "      <td>体重（kg）</td>\n",
       "      <td>体温（℃）</td>\n",
       "      <td>心率（bpm）</td>\n",
       "      <td>促甲状腺素TSH（mIU/L）</td>\n",
       "      <td>游离T4（pmol/L）</td>\n",
       "      <td>游离T3（pmol/L）</td>\n",
       "    </tr>\n",
       "    <tr>\n",
       "      <th>1</th>\n",
       "      <td>11</td>\n",
       "      <td>冯建</td>\n",
       "      <td>Feng,Jian</td>\n",
       "      <td>NaN</td>\n",
       "      <td>NaN</td>\n",
       "      <td>NaN</td>\n",
       "      <td>NaN</td>\n",
       "      <td>NaN</td>\n",
       "      <td>NaN</td>\n",
       "      <td>NaN</td>\n",
       "      <td>NaN</td>\n",
       "      <td>NaN</td>\n",
       "      <td>NaN</td>\n",
       "      <td>NaN</td>\n",
       "    </tr>\n",
       "    <tr>\n",
       "      <th>2</th>\n",
       "      <td>12</td>\n",
       "      <td>NaN</td>\n",
       "      <td>Xu, Jianhua</td>\n",
       "      <td>NaN</td>\n",
       "      <td>NaN</td>\n",
       "      <td>NaN</td>\n",
       "      <td>NaN</td>\n",
       "      <td>NaN</td>\n",
       "      <td>NaN</td>\n",
       "      <td>NaN</td>\n",
       "      <td>NaN</td>\n",
       "      <td>NaN</td>\n",
       "      <td>NaN</td>\n",
       "      <td>NaN</td>\n",
       "    </tr>\n",
       "    <tr>\n",
       "      <th>3</th>\n",
       "      <td>524215</td>\n",
       "      <td>叶思思</td>\n",
       "      <td>Ye, Sisi</td>\n",
       "      <td>1=男</td>\n",
       "      <td>1=汉族</td>\n",
       "      <td>温州</td>\n",
       "      <td>35</td>\n",
       "      <td>164</td>\n",
       "      <td>64</td>\n",
       "      <td>36.5</td>\n",
       "      <td>80</td>\n",
       "      <td>1.12</td>\n",
       "      <td>8.32</td>\n",
       "      <td>4.6</td>\n",
       "    </tr>\n",
       "    <tr>\n",
       "      <th>4</th>\n",
       "      <td>541646</td>\n",
       "      <td>余贤地</td>\n",
       "      <td>Yu, Xiandi</td>\n",
       "      <td>1=男</td>\n",
       "      <td>1=汉族</td>\n",
       "      <td>文成</td>\n",
       "      <td>62</td>\n",
       "      <td>162</td>\n",
       "      <td>65</td>\n",
       "      <td>36.3</td>\n",
       "      <td>88</td>\n",
       "      <td>0.9</td>\n",
       "      <td>11</td>\n",
       "      <td>4.6</td>\n",
       "    </tr>\n",
       "  </tbody>\n",
       "</table>\n",
       "</div>"
      ],
      "text/plain": [
       "  Unnamed: 0 Unnamed: 1   Unnamed: 2 Unnamed: 3 Unnamed: 4 Unnamed: 5  \\\n",
       "0    住院号/门诊号         姓名         英文姓名         性别         民族         籍贯   \n",
       "1         11         冯建    Feng,Jian        NaN        NaN        NaN   \n",
       "2         12        NaN  Xu, Jianhua        NaN        NaN        NaN   \n",
       "3     524215        叶思思     Ye, Sisi        1=男       1=汉族         温州   \n",
       "4     541646        余贤地  Yu, Xiandi         1=男       1=汉族         文成   \n",
       "\n",
       "  Unnamed: 6 Unnamed: 7 Unnamed: 8 Unnamed: 9 Unnamed: 10      Unnamed: 11  \\\n",
       "0      年龄（岁）     身高（cm）     体重（kg）      体温（℃）     心率（bpm）  促甲状腺素TSH（mIU/L）   \n",
       "1        NaN        NaN        NaN        NaN         NaN              NaN   \n",
       "2        NaN        NaN        NaN        NaN         NaN              NaN   \n",
       "3         35        164         64       36.5          80             1.12   \n",
       "4         62        162         65       36.3          88              0.9   \n",
       "\n",
       "    Unnamed: 12   Unnamed: 13  \n",
       "0  游离T4（pmol/L）  游离T3（pmol/L）  \n",
       "1           NaN           NaN  \n",
       "2           NaN           NaN  \n",
       "3          8.32           4.6  \n",
       "4            11           4.6  "
      ]
     },
     "execution_count": 45,
     "metadata": {},
     "output_type": "execute_result"
    }
   ],
   "source": [
    "df_label = pd.read_excel(data+'/train_label.xlsx')\n",
    "df_label.head()"
   ]
  },
  {
   "cell_type": "code",
   "execution_count": 51,
   "metadata": {},
   "outputs": [],
   "source": [
    "df_label = df_label.rename(columns={'Unnamed: 0':'id',\n",
    "                         'Unnamed: 1':'name',\n",
    "                         'Unnamed: 2':'eng_name',\n",
    "                         'Unnamed: 3':'gender',\n",
    "                         'Unnamed: 4':'cul',\n",
    "                         'Unnamed: 5':'hometown',\n",
    "                         'Unnamed: 6':'age',\n",
    "                         'Unnamed: 7':'height',\n",
    "                         'Unnamed: 8':'weight',\n",
    "                         'Unnamed: 9':'temp',\n",
    "                         'Unnamed: 10':'bpm',\n",
    "                        'Unnamed: 11':'tsh',\n",
    "                        'Unnamed: 12':'t4',\n",
    "                        'Unnamed: 13':'t3'})"
   ]
  },
  {
   "cell_type": "code",
   "execution_count": 72,
   "metadata": {},
   "outputs": [],
   "source": [
    "df_label = df_label.iloc[1:,:]"
   ]
  },
  {
   "cell_type": "code",
   "execution_count": 73,
   "metadata": {},
   "outputs": [],
   "source": [
    "df_label.to_csv(data+'/train_label.csv')"
   ]
  },
  {
   "cell_type": "code",
   "execution_count": 48,
   "metadata": {},
   "outputs": [],
   "source": [
    "df_raw.to_csv(data+'/train_mapping.csv')"
   ]
  },
  {
   "cell_type": "code",
   "execution_count": 54,
   "metadata": {},
   "outputs": [
    {
     "data": {
      "text/html": [
       "<div>\n",
       "<style scoped>\n",
       "    .dataframe tbody tr th:only-of-type {\n",
       "        vertical-align: middle;\n",
       "    }\n",
       "\n",
       "    .dataframe tbody tr th {\n",
       "        vertical-align: top;\n",
       "    }\n",
       "\n",
       "    .dataframe thead th {\n",
       "        text-align: right;\n",
       "    }\n",
       "</style>\n",
       "<table border=\"1\" class=\"dataframe\">\n",
       "  <thead>\n",
       "    <tr style=\"text-align: right;\">\n",
       "      <th></th>\n",
       "      <th>id</th>\n",
       "      <th>name</th>\n",
       "      <th>eng_name</th>\n",
       "      <th>gender</th>\n",
       "      <th>cul</th>\n",
       "      <th>hometown</th>\n",
       "      <th>age</th>\n",
       "      <th>height</th>\n",
       "      <th>weight</th>\n",
       "      <th>temp</th>\n",
       "      <th>bpm</th>\n",
       "      <th>tsh</th>\n",
       "      <th>t4</th>\n",
       "      <th>t3</th>\n",
       "    </tr>\n",
       "  </thead>\n",
       "  <tbody>\n",
       "    <tr>\n",
       "      <th>23</th>\n",
       "      <td>1108990</td>\n",
       "      <td>陈成绿</td>\n",
       "      <td>Chen, Chenglv</td>\n",
       "      <td>1=男</td>\n",
       "      <td>1=汉族</td>\n",
       "      <td>苍南</td>\n",
       "      <td>74</td>\n",
       "      <td>169</td>\n",
       "      <td>70</td>\n",
       "      <td>36.6</td>\n",
       "      <td>64</td>\n",
       "      <td>0.94</td>\n",
       "      <td>12.23</td>\n",
       "      <td>4.5</td>\n",
       "    </tr>\n",
       "  </tbody>\n",
       "</table>\n",
       "</div>"
      ],
      "text/plain": [
       "         id name        eng_name gender   cul hometown age height weight  \\\n",
       "23  1108990  陈成绿  Chen, Chenglv     1=男  1=汉族       苍南  74    169     70   \n",
       "\n",
       "    temp bpm   tsh     t4   t3  \n",
       "23  36.6  64  0.94  12.23  4.5  "
      ]
     },
     "execution_count": 54,
     "metadata": {},
     "output_type": "execute_result"
    }
   ],
   "source": [
    "df_label[df_label['id']==1108990]"
   ]
  },
  {
   "cell_type": "code",
   "execution_count": 61,
   "metadata": {},
   "outputs": [
    {
     "data": {
      "text/plain": [
       "0.94"
      ]
     },
     "execution_count": 61,
     "metadata": {},
     "output_type": "execute_result"
    }
   ],
   "source": [
    "df_label[df_label['id'] == 1108990]['tsh'].item()"
   ]
  },
  {
   "cell_type": "code",
   "execution_count": 86,
   "metadata": {},
   "outputs": [],
   "source": [
    "df_merge = df_raw.merge(df_label,on='id',how='left')"
   ]
  },
  {
   "cell_type": "code",
   "execution_count": 90,
   "metadata": {},
   "outputs": [],
   "source": [
    "df_merge.to_csv(data+'/raw_all.csv',index=False)"
   ]
  },
  {
   "cell_type": "code",
   "execution_count": 91,
   "metadata": {},
   "outputs": [],
   "source": [
    "df_train = df_merge[df_merge['tsh'].notna()]"
   ]
  },
  {
   "cell_type": "code",
   "execution_count": 92,
   "metadata": {},
   "outputs": [],
   "source": [
    "df_train.to_csv(data+'/train.csv',index=False)"
   ]
  },
  {
   "cell_type": "code",
   "execution_count": 93,
   "metadata": {},
   "outputs": [
    {
     "data": {
      "text/html": [
       "<div>\n",
       "<style scoped>\n",
       "    .dataframe tbody tr th:only-of-type {\n",
       "        vertical-align: middle;\n",
       "    }\n",
       "\n",
       "    .dataframe tbody tr th {\n",
       "        vertical-align: top;\n",
       "    }\n",
       "\n",
       "    .dataframe thead th {\n",
       "        text-align: right;\n",
       "    }\n",
       "</style>\n",
       "<table border=\"1\" class=\"dataframe\">\n",
       "  <thead>\n",
       "    <tr style=\"text-align: right;\">\n",
       "      <th></th>\n",
       "      <th>filename</th>\n",
       "      <th>orig_filename</th>\n",
       "      <th>id</th>\n",
       "      <th>name</th>\n",
       "      <th>eng_name</th>\n",
       "      <th>gender</th>\n",
       "      <th>cul</th>\n",
       "      <th>hometown</th>\n",
       "      <th>age</th>\n",
       "      <th>height</th>\n",
       "      <th>weight</th>\n",
       "      <th>temp</th>\n",
       "      <th>bpm</th>\n",
       "      <th>tsh</th>\n",
       "      <th>t4</th>\n",
       "      <th>t3</th>\n",
       "    </tr>\n",
       "  </thead>\n",
       "  <tbody>\n",
       "    <tr>\n",
       "      <th>0</th>\n",
       "      <td>train_0043.wav</td>\n",
       "      <td>524215/Ausculation_Report_Eko_Recording_140111...</td>\n",
       "      <td>524215</td>\n",
       "      <td>叶思思</td>\n",
       "      <td>Ye, Sisi</td>\n",
       "      <td>1=男</td>\n",
       "      <td>1=汉族</td>\n",
       "      <td>温州</td>\n",
       "      <td>35</td>\n",
       "      <td>164</td>\n",
       "      <td>64</td>\n",
       "      <td>36.5</td>\n",
       "      <td>80</td>\n",
       "      <td>1.12</td>\n",
       "      <td>8.32</td>\n",
       "      <td>4.6</td>\n",
       "    </tr>\n",
       "    <tr>\n",
       "      <th>1</th>\n",
       "      <td>train_0209.wav</td>\n",
       "      <td>524215/Ausculation_Report_Eko_Recording_140114...</td>\n",
       "      <td>524215</td>\n",
       "      <td>叶思思</td>\n",
       "      <td>Ye, Sisi</td>\n",
       "      <td>1=男</td>\n",
       "      <td>1=汉族</td>\n",
       "      <td>温州</td>\n",
       "      <td>35</td>\n",
       "      <td>164</td>\n",
       "      <td>64</td>\n",
       "      <td>36.5</td>\n",
       "      <td>80</td>\n",
       "      <td>1.12</td>\n",
       "      <td>8.32</td>\n",
       "      <td>4.6</td>\n",
       "    </tr>\n",
       "    <tr>\n",
       "      <th>2</th>\n",
       "      <td>train_0200.wav</td>\n",
       "      <td>524215/Ausculation_Report_Eko_Recording_140112...</td>\n",
       "      <td>524215</td>\n",
       "      <td>叶思思</td>\n",
       "      <td>Ye, Sisi</td>\n",
       "      <td>1=男</td>\n",
       "      <td>1=汉族</td>\n",
       "      <td>温州</td>\n",
       "      <td>35</td>\n",
       "      <td>164</td>\n",
       "      <td>64</td>\n",
       "      <td>36.5</td>\n",
       "      <td>80</td>\n",
       "      <td>1.12</td>\n",
       "      <td>8.32</td>\n",
       "      <td>4.6</td>\n",
       "    </tr>\n",
       "    <tr>\n",
       "      <th>3</th>\n",
       "      <td>train_0201.wav</td>\n",
       "      <td>524215/Ausculation_Report_Eko_Recording_140113...</td>\n",
       "      <td>524215</td>\n",
       "      <td>叶思思</td>\n",
       "      <td>Ye, Sisi</td>\n",
       "      <td>1=男</td>\n",
       "      <td>1=汉族</td>\n",
       "      <td>温州</td>\n",
       "      <td>35</td>\n",
       "      <td>164</td>\n",
       "      <td>64</td>\n",
       "      <td>36.5</td>\n",
       "      <td>80</td>\n",
       "      <td>1.12</td>\n",
       "      <td>8.32</td>\n",
       "      <td>4.6</td>\n",
       "    </tr>\n",
       "    <tr>\n",
       "      <th>4</th>\n",
       "      <td>train_0159.wav</td>\n",
       "      <td>615897/Ausculation_Report_Eko_Recording_141773...</td>\n",
       "      <td>615897</td>\n",
       "      <td>叶晓霞</td>\n",
       "      <td>Ye,Xiaoxia</td>\n",
       "      <td>2=女</td>\n",
       "      <td>1=汉族</td>\n",
       "      <td>永嘉</td>\n",
       "      <td>69</td>\n",
       "      <td>156</td>\n",
       "      <td>50</td>\n",
       "      <td>36.9</td>\n",
       "      <td>60</td>\n",
       "      <td>2.53</td>\n",
       "      <td>12.34</td>\n",
       "      <td>4.2</td>\n",
       "    </tr>\n",
       "  </tbody>\n",
       "</table>\n",
       "</div>"
      ],
      "text/plain": [
       "         filename                                      orig_filename      id  \\\n",
       "0  train_0043.wav  524215/Ausculation_Report_Eko_Recording_140111...  524215   \n",
       "1  train_0209.wav  524215/Ausculation_Report_Eko_Recording_140114...  524215   \n",
       "2  train_0200.wav  524215/Ausculation_Report_Eko_Recording_140112...  524215   \n",
       "3  train_0201.wav  524215/Ausculation_Report_Eko_Recording_140113...  524215   \n",
       "4  train_0159.wav  615897/Ausculation_Report_Eko_Recording_141773...  615897   \n",
       "\n",
       "  name    eng_name gender   cul hometown age height weight  temp bpm   tsh  \\\n",
       "0  叶思思    Ye, Sisi    1=男  1=汉族       温州  35    164     64  36.5  80  1.12   \n",
       "1  叶思思    Ye, Sisi    1=男  1=汉族       温州  35    164     64  36.5  80  1.12   \n",
       "2  叶思思    Ye, Sisi    1=男  1=汉族       温州  35    164     64  36.5  80  1.12   \n",
       "3  叶思思    Ye, Sisi    1=男  1=汉族       温州  35    164     64  36.5  80  1.12   \n",
       "4  叶晓霞  Ye,Xiaoxia    2=女  1=汉族       永嘉  69    156     50  36.9  60  2.53   \n",
       "\n",
       "      t4   t3  \n",
       "0   8.32  4.6  \n",
       "1   8.32  4.6  \n",
       "2   8.32  4.6  \n",
       "3   8.32  4.6  \n",
       "4  12.34  4.2  "
      ]
     },
     "execution_count": 93,
     "metadata": {},
     "output_type": "execute_result"
    }
   ],
   "source": [
    "df_train.head()"
   ]
  },
  {
   "cell_type": "code",
   "execution_count": 95,
   "metadata": {},
   "outputs": [
    {
     "data": {
      "text/plain": [
       "77"
      ]
     },
     "execution_count": 95,
     "metadata": {},
     "output_type": "execute_result"
    }
   ],
   "source": [
    "len(df_train.id.unique())"
   ]
  },
  {
   "cell_type": "code",
   "execution_count": 96,
   "metadata": {},
   "outputs": [
    {
     "data": {
      "text/plain": [
       "(394, 16)"
      ]
     },
     "execution_count": 96,
     "metadata": {},
     "output_type": "execute_result"
    }
   ],
   "source": [
    "df_train.shape"
   ]
  },
  {
   "cell_type": "markdown",
   "metadata": {},
   "source": [
    "# Fin\n",
    "\n",
    "23 of the training data doesn't have label\n",
    "\n",
    "total 77 unique person and 394 recordings are avaiable"
   ]
  },
  {
   "cell_type": "code",
   "execution_count": null,
   "metadata": {},
   "outputs": [],
   "source": []
  }
 ],
 "metadata": {
  "kernelspec": {
   "display_name": "Python 3",
   "language": "python",
   "name": "python3"
  },
  "language_info": {
   "codemirror_mode": {
    "name": "ipython",
    "version": 3
   },
   "file_extension": ".py",
   "mimetype": "text/x-python",
   "name": "python",
   "nbconvert_exporter": "python",
   "pygments_lexer": "ipython3",
   "version": "3.8.3"
  }
 },
 "nbformat": 4,
 "nbformat_minor": 4
}
